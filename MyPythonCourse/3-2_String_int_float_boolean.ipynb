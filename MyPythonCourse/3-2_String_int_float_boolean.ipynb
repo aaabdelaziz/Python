{
 "cells": [
  {
   "cell_type": "code",
   "execution_count": 1,
   "id": "4c8e0772",
   "metadata": {},
   "outputs": [
    {
     "name": "stdout",
     "output_type": "stream",
     "text": [
      "Giraff\"Academy\n"
     ]
    }
   ],
   "source": [
    "\n",
    "721843\n",
    "# to escape character like the double quotation\n",
    "print(\"Giraff\\\"Academy\")\n",
    "# to print string variables\n",
    "character_name = \"John\"\n",
    "character_age = \"35\"\n",
    "graduation_score = '92.3545'\n",
    "\n",
    "# Float number\n",
    "salary = 30\n",
    "bouns = 50.56782132"
   ]
  },
  {
   "cell_type": "code",
   "execution_count": 2,
   "id": "e84a857b",
   "metadata": {},
   "outputs": [
    {
     "name": "stdout",
     "output_type": "stream",
     "text": [
      "The  man name is John, \n",
      "The  man age is 35 .\n"
     ]
    }
   ],
   "source": [
    "# boolean variables\n",
    "is_male = True\n",
    "is_married = False\n",
    "print(\"The  man name is \" + character_name + \", \")\n",
    "print(\"The  man age is \" + character_age + \" .\")"
   ]
  },
  {
   "cell_type": "code",
   "execution_count": 3,
   "id": "c1314d9c",
   "metadata": {},
   "outputs": [
    {
     "name": "stdout",
     "output_type": "stream",
     "text": [
      "35\n",
      "92.3545\n",
      "127.3545\n",
      "The  man`s bonus is 50.56782132\n",
      "\n",
      "The  man`s salary is 30\n",
      "\n",
      "He is male: True\n",
      "He is maried: False\n",
      "\n"
     ]
    }
   ],
   "source": [
    "\n",
    "# convert string to int number\n",
    "print(int(character_age))\n",
    "# convert string to float number\n",
    "print(float(graduation_score))\n",
    "\n",
    "# convert string to float number\n",
    "print(float(graduation_score)+int(character_age))\n",
    "\n",
    "# convert int or float as numbers to string\n",
    "# to concatenate and print numbers as string\n",
    "print(\"The  man`s bonus is \" + str(bouns) + \"\\n\")\n",
    "\n",
    "# convert float number to string\n",
    "print(\"The  man`s salary is \" + str(salary) + \"\\n\")\n",
    "\n",
    "#  print the boolean values\n",
    "print(\"He is male: \" + str(is_male) + \"\\n\" +\n",
    "      \"He is maried: \" + str(is_married) + \"\\n\")"
   ]
  },
  {
   "cell_type": "code",
   "execution_count": 4,
   "id": "499e4093",
   "metadata": {},
   "outputs": [
    {
     "name": "stdout",
     "output_type": "stream",
     "text": [
      "1\n",
      "0\n",
      "2\n",
      "4\n"
     ]
    }
   ],
   "source": [
    "# sum two boolean values\n",
    "print(False + True)\n",
    "# false value is 0\n",
    "print(False + False)\n",
    "# true value is 1\n",
    "print(True + True)\n",
    "# true value is 1\n",
    "print(True + 3)"
   ]
  }
 ],
 "metadata": {
  "kernelspec": {
   "display_name": "base",
   "language": "python",
   "name": "python3"
  },
  "language_info": {
   "codemirror_mode": {
    "name": "ipython",
    "version": 3
   },
   "file_extension": ".py",
   "mimetype": "text/x-python",
   "name": "python",
   "nbconvert_exporter": "python",
   "pygments_lexer": "ipython3",
   "version": "3.12.7"
  }
 },
 "nbformat": 4,
 "nbformat_minor": 5
}
