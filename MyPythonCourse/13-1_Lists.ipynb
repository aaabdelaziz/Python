{
 "cells": [
  {
   "cell_type": "code",
   "execution_count": null,
   "id": "35748354",
   "metadata": {},
   "outputs": [
    {
     "name": "stdout",
     "output_type": "stream",
     "text": [
      "4\n",
      "History\n",
      "Math\n"
     ]
    }
   ],
   "source": [
    "\n",
    "# lists in python\n",
    "# Note   L  =  [  ... ]\n",
    "# Note   course[i]  access by index like i in word L(i)st  like array in C\n",
    "\n",
    "# Lists is like moving cursor of mouse at some place\n",
    "\n",
    "# Courses = [ courses[0], courses[1], courses[2] ]\n",
    "courses = ['History', 'Physics', 'ComputerScience', 'Math']\n",
    "\n",
    "# length of the list\n",
    "print(len(courses))\n",
    "\n",
    "# access the value in the first item in the list\n",
    "print(courses[0])\n",
    "\n",
    "# access the value in the last item in the list, without knowing the list len\n",
    "print(courses[-1])\n",
    "\n",
    "# Error access to un existing value in the list, will give IndexError: list index out of range\n",
    "# print(courses[4])"
   ]
  },
  {
   "cell_type": "code",
   "execution_count": null,
   "id": "a4560ea0",
   "metadata": {},
   "outputs": [
    {
     "name": "stdout",
     "output_type": "stream",
     "text": [
      "aLi\n",
      "0.7\n",
      "-5.43\n",
      "46\n"
     ]
    }
   ],
   "source": [
    "# List also can carry different data types\n",
    "names = [\"aLi\", \"Joe\", 1, 46, .7, -5.43 ]\n",
    "print(names[0])\n",
    "print(names[4])\n",
    "# print(names[7])  # Out of range , will cause error\n",
    "print(names[-1])\n",
    "print(names[-3])\n"
   ]
  },
  {
   "cell_type": "code",
   "execution_count": null,
   "id": "564aade0",
   "metadata": {},
   "outputs": [
    {
     "name": "stdout",
     "output_type": "stream",
     "text": [
      "['History', 'Physics']\n",
      "['History']\n",
      "[]\n",
      "['History', 'Physics']\n",
      "['ComputerScience', 'Math']\n",
      "----------------------------------\n",
      "\n",
      "['History', 'Physics', 'ComputerScience', 'Math']\n"
     ]
    }
   ],
   "source": [
    "\n",
    "#------------------------------- Slicing ------------------------#\n",
    "# show all list items starting from (0) all the way up to item(2) but not including the item (2).\n",
    "print(courses[0:2])\n",
    "\n",
    "# show all list items starting from (0) all the way up to item(1) but not including the item (1).\n",
    "print(courses[0:1])\n",
    "\n",
    "# show all list items starting from (1) all the way up to item(1) but not including the item (1).\n",
    "print(courses[1:1])\n",
    "\n",
    "# show from the beginning till the 2nd item\n",
    "print(courses[:2])\n",
    "\n",
    "# show from the second item till the end of the list\n",
    "print(courses[2:])\n",
    "\n",
    "#----------------------- List tools --------------------------------#\n",
    "print('----------------------------------\\n')\n",
    "print(courses)"
   ]
  },
  {
   "cell_type": "code",
   "execution_count": null,
   "id": "699618dd",
   "metadata": {},
   "outputs": [
    {
     "name": "stdout",
     "output_type": "stream",
     "text": [
      "1---------------append-------------------\n",
      "['History', 'Physics', 'ComputerScience', 'Math', 'Art']\n",
      "2----------------extend------------------\n",
      "['History', 'Physics', 'ComputerScience', 'Math', 'Art', 'English', 'French']\n",
      "3-----------------insert item at specific location-----------------\n",
      "['Chemistry', 'History', 'Physics', 'ComputerScience', 'Math', 'Art', 'English', 'French']\n",
      "4------------------insert list----------------\n",
      "[['Art', 'Education'], 'Chemistry', 'History', 'Physics', 'ComputerScience', 'Math', 'Art', 'English', 'French']\n",
      "5----------------insert concatenated lists------------------\n",
      "[['Art', 'Education'], 'Chemistry', ['Art', 'Education', 'Philosphy', 'Arabic'], 'History', 'Physics', 'ComputerScience', 'Math', 'Art', 'English', 'French']\n",
      "6-------------remove Math item---------------------\n",
      "[['Art', 'Education'], 'Chemistry', ['Art', 'Education', 'Philosphy', 'Arabic'], 'History', 'Physics', 'ComputerScience', 'Art', 'English', 'French']\n",
      "7---------------remove Art item--------------------\n",
      "[['Art', 'Education'], 'Chemistry', ['Art', 'Education', 'Philosphy', 'Arabic'], 'History', 'Physics', 'ComputerScience', 'English', 'French']\n",
      "8------------------pop last item----------------\n",
      "[['Art', 'Education'], 'Chemistry', ['Art', 'Education', 'Philosphy', 'Arabic'], 'History', 'Physics', 'ComputerScience', 'English']\n",
      "9------------------poped item----------------\n",
      "French\n"
     ]
    }
   ],
   "source": [
    "\n",
    "\n",
    "# ---------->> Add an item to the list\n",
    "courses.append('Art')\n",
    "print('1---------------append-------------------\\n' + str(courses))\n",
    "\n",
    "# ---------->> Extend the original old list with new items insted of inserting a new list into old list\n",
    "courses_0 = ['English', 'French']\n",
    "courses.extend(courses_0)\n",
    "print('2----------------extend------------------\\n' + str(courses))\n",
    "\n",
    "# ---------->> insert an item to specific location in the list,\n",
    "# insert 'Art' to position 0 in the list, and shift next items\n",
    "courses.insert(0, 'Chemistry')\n",
    "print('3-----------------insert item at specific location-----------------\\n' + str(courses))\n",
    "\n",
    "\n",
    "# ---------->> insert a list of multiple values into another list (Extend the list)\n",
    "courses_2 = ['Art', 'Education']\n",
    "courses.insert(0, courses_2)\n",
    "print('4------------------insert list----------------\\n' + str(courses))\n",
    "\n",
    "courses_3 = ['Philosphy', 'Arabic']\n",
    "courses.insert(2, courses_2+courses_3)\n",
    "print('5----------------insert concatenated lists------------------\\n' + str(courses))\n",
    "\n",
    "# ---------->> remove an item from the list\n",
    "courses.remove('Math')\n",
    "print('6-------------remove Math item---------------------\\n' + str(courses))\n",
    "\n",
    "courses.remove('Art')  # remove Art as an item, but not from the internal lists\n",
    "print('7---------------remove Art item--------------------\\n' + str(courses))\n",
    "\n",
    "# ---------->> pop an item from the list\n",
    "# remove last item from the list and return it to a variable , like a stack pop\n",
    "popped = courses.pop()\n",
    "print('8------------------pop last item----------------\\n' + str(courses))\n",
    "print('9------------------poped item----------------\\n' + str(popped))\n",
    "# save a copy of the list\n",
    "courses_origin = courses\n",
    "\n"
   ]
  },
  {
   "cell_type": "code",
   "execution_count": null,
   "id": "3b46d556",
   "metadata": {},
   "outputs": [
    {
     "name": "stdout",
     "output_type": "stream",
     "text": [
      "10--------------------reversed list--------------\n",
      "[['Art', 'Education'], 'Chemistry', ['Art', 'Education', 'Philosphy', 'Arabic'], 'Physics', 'History', 'English', 'ComputerScience']\n",
      "Sorted strings only: ['Chemistry', 'ComputerScience', 'English', 'History', 'Physics']\n"
     ]
    }
   ],
   "source": [
    "# ---------->> reverse the list elements, last item become the first ,..\n",
    "courses.reverse()\n",
    "print('10--------------------reversed list--------------\\n' + str(courses))\n",
    "\n",
    "# ---------->> sort the list string elements in alphabitical (Ascending/decsending) order in same list\n",
    "# courses.sort()  \n",
    "# Note that : This will create error as This works only if all elements in the courses list are of the same type (e.g., all strings).\n",
    "# But here, courses contains a mix of strings and lists:\n",
    "# courses = ['Math', 'Biology', ['English', 'History'], 'Chemistry']\n",
    "# Trying to sort this will raise an error because Python doesn't know how to compare 'Biology' < ['English', 'History'].\n",
    "\n",
    "# Solution is to Filter only strings\n",
    "string_courses = [course for course in courses if isinstance(course, str)]\n",
    "string_courses.sort()\n",
    "print('Sorted strings only:', string_courses)\n"
   ]
  },
  {
   "cell_type": "code",
   "execution_count": null,
   "id": "7fdb1878",
   "metadata": {},
   "outputs": [
    {
     "name": "stdout",
     "output_type": "stream",
     "text": [
      "11--------------------alphapitical sorted list--------------\n",
      "['Math', 'Biology', 'English', 'History', 'Chemistry']\n"
     ]
    },
    {
     "ename": "AttributeError",
     "evalue": "'str' object has no attribute 'sort'",
     "output_type": "error",
     "traceback": [
      "\u001b[31m---------------------------------------------------------------------------\u001b[39m",
      "\u001b[31mAttributeError\u001b[39m                            Traceback (most recent call last)",
      "\u001b[36mCell\u001b[39m\u001b[36m \u001b[39m\u001b[32mIn[19]\u001b[39m\u001b[32m, line 5\u001b[39m\n\u001b[32m      1\u001b[39m courses = [\u001b[33m'\u001b[39m\u001b[33mMath\u001b[39m\u001b[33m'\u001b[39m, \u001b[33m'\u001b[39m\u001b[33mBiology\u001b[39m\u001b[33m'\u001b[39m, \u001b[33m'\u001b[39m\u001b[33mEnglish\u001b[39m\u001b[33m'\u001b[39m, \u001b[33m'\u001b[39m\u001b[33mHistory\u001b[39m\u001b[33m'\u001b[39m, \u001b[33m'\u001b[39m\u001b[33mChemistry\u001b[39m\u001b[33m'\u001b[39m]\n\u001b[32m      3\u001b[39m \u001b[38;5;28mprint\u001b[39m(\u001b[33m'\u001b[39m\u001b[33m11--------------------alphapitical sorted list--------------\u001b[39m\u001b[38;5;130;01m\\n\u001b[39;00m\u001b[33m'\u001b[39m + \u001b[38;5;28mstr\u001b[39m(courses))\n\u001b[32m----> \u001b[39m\u001b[32m5\u001b[39m \u001b[43mcourses\u001b[49m\u001b[43m[\u001b[49m\u001b[32;43m1\u001b[39;49m\u001b[43m]\u001b[49m\u001b[43m.\u001b[49m\u001b[43msort\u001b[49m()\n\u001b[32m      6\u001b[39m \u001b[38;5;28mprint\u001b[39m(\u001b[33m'\u001b[39m\u001b[33m12--------------------sorted inner list--------------\u001b[39m\u001b[38;5;130;01m\\n\u001b[39;00m\u001b[33m'\u001b[39m + \u001b[38;5;28mstr\u001b[39m(courses))\n\u001b[32m      8\u001b[39m nums = [\u001b[32m1\u001b[39m, \u001b[32m5\u001b[39m, \u001b[32m2\u001b[39m, \u001b[32m4\u001b[39m, \u001b[32m2\u001b[39m, \u001b[32m3\u001b[39m]\n",
      "\u001b[31mAttributeError\u001b[39m: 'str' object has no attribute 'sort'"
     ]
    }
   ],
   "source": [
    "\n",
    "courses = ['Math', 'Biology', 'English', 'History', 'Chemistry']\n",
    "\n",
    "print('11--------------------alphapitical sorted list--------------\\n' + str(courses))\n",
    "\n",
    "courses[1].sort()\n",
    "print('12--------------------sorted inner list--------------\\n' + str(courses))\n",
    "\n",
    "nums = [1, 5, 2, 4, 2, 3]\n",
    "nums.sort()\n",
    "print('13--------------------Ascending sort for list of numbers-------------\\n' + str(nums))\n",
    "\n",
    "\n",
    "nums = [1, 5, 2.3, 4, -3.6, 2, 3, 0]\n",
    "nums.sort()\n",
    "print('14--------------------Ascending sort for list of float numbers-------------\\n' + str(nums))\n",
    "\n",
    "nums.sort(reverse=True)\n",
    "print('15--------------------Descending sort for list of float numbers-------------\\n' + str(nums))\n",
    "courses.sort(reverse=True)\n",
    "print('16--------------------Descending sort for list of float numbers-------------\\n' + str(courses))\n",
    "\n",
    "# -------->> sort the list without changing it\n",
    "sorted_courses = sorted(courses_origin)\n",
    "print('17--------------------sorted list -------------\\n' +\n",
    "      str(sorted_courses))\n",
    "print('18--------------------original list without change-------------\\n' +\n",
    "      str(courses))\n",
    "\n",
    "# --------List tools for Numbers----------------------#\n",
    "# -------->> min number in list\n",
    "print('19--------------------min num in list -------------\\n' +\n",
    "      '======> ' + str(min(nums)))\n",
    "# -------->> max number in list\n",
    "print('20--------------------max num in list -------------\\n' +\n",
    "      '======>  ' + str(max(nums)))\n",
    "# -------->> sum of list numbers\n",
    "print('21--------------------Sum of nums in list --------------\\n' +\n",
    "      '======>' + str(sum(nums)))\n",
    "\n",
    "# -------- define the index of certain value ----------------#\n",
    "print('22--------------------index of certain value --------------\\n' +\n",
    "      str(courses.index('Physics')) + '\\n' +\n",
    "      str(courses.index('History')) + '\\n' +\n",
    "      str(courses.index('Chemistry')) + '\\n' +\n",
    "      str(courses[5].index('Art')) + '\\n'\n",
    "      )\n"
   ]
  },
  {
   "cell_type": "code",
   "execution_count": null,
   "id": "b67e090b",
   "metadata": {},
   "outputs": [],
   "source": [
    "# -------- check if item in the list ----------------#\n",
    "print('23--------------------Check if item in list --------------\\n')\n",
    "print('Math' in courses_origin)\n",
    "print('History' in courses_origin)\n",
    "\n",
    "# to print all list items through loop\n",
    "print('24-------------------- loop on list items--------------\\n')\n",
    "i = 0\n",
    "for item in courses_origin:\n",
    "    print(str(i) + ' - ' + str(item))\n",
    "    i = i+1````\n",
    "# Another way to show the index of each course using enumerate function, it return two values\n",
    "print('\\n25-------------------- better way to loop on list items--------------\\n')\n",
    "for index, item in enumerate(courses_origin, start=1):\n",
    "    print(index, item)\n",
    "\n",
    "# to join the list items with comma separate| or Hyphen\n",
    "print('\\n26--------------------join list items with certain opertor--------------\\n')\n",
    "course_str = ' - '.join(courses_origin[0])\n",
    "print(course_str)\n",
    "course_str1 = ' - '.join(courses_origin[5])\n",
    "print(course_str1)\n",
    "\n",
    "# to retrieve the joined list items and split it back to a list of items\n",
    "print('\\n26--------------------Split the joined list and get it back--------------\\n')\n",
    "course_str = course_str.split(' - ')\n",
    "print(course_str)\n",
    "course_str1 = course_str1.split(' - ')\n",
    "print(course_str1)"
   ]
  }
 ],
 "metadata": {
  "kernelspec": {
   "display_name": "Python 3",
   "language": "python",
   "name": "python3"
  },
  "language_info": {
   "codemirror_mode": {
    "name": "ipython",
    "version": 3
   },
   "file_extension": ".py",
   "mimetype": "text/x-python",
   "name": "python",
   "nbconvert_exporter": "python",
   "pygments_lexer": "ipython3",
   "version": "3.12.0"
  }
 },
 "nbformat": 4,
 "nbformat_minor": 5
}
