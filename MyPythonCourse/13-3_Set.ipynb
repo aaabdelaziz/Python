{
 "cells": [
  {
   "cell_type": "markdown",
   "id": "f839dce8",
   "metadata": {},
   "source": [
    "# ---------------------------------------------\n",
    "# Python Set Operations – From Basic to Advanced\n",
    "# ---------------------------------------------"
   ]
  },
  {
   "cell_type": "code",
   "execution_count": 1,
   "id": "dfdda46e",
   "metadata": {},
   "outputs": [
    {
     "name": "stdout",
     "output_type": "stream",
     "text": [
      "1. Basic Set: {'apple', 'banana', 'cherry'}\n"
     ]
    }
   ],
   "source": [
    "\n",
    "# 1. Basic Set Creation\n",
    "fruits = {\"apple\", \"banana\", \"cherry\"}\n",
    "print(\"1. Basic Set:\", fruits)"
   ]
  },
  {
   "cell_type": "code",
   "execution_count": 2,
   "id": "33ae3e3d",
   "metadata": {},
   "outputs": [
    {
     "name": "stdout",
     "output_type": "stream",
     "text": [
      "2. Duplicates Removed: {'orange', 'apple', 'banana'}\n"
     ]
    }
   ],
   "source": [
    "\n",
    "# 2. Duplicates are Automatically Removed\n",
    "duplicates = {\"apple\", \"banana\", \"apple\", \"orange\"}\n",
    "print(\"2. Duplicates Removed:\", duplicates)"
   ]
  },
  {
   "cell_type": "code",
   "execution_count": 3,
   "id": "251b10b5",
   "metadata": {},
   "outputs": [
    {
     "name": "stdout",
     "output_type": "stream",
     "text": [
      "3. After Adding 'mango': {'apple', 'banana', 'mango', 'cherry'}\n"
     ]
    }
   ],
   "source": [
    "\n",
    "# 3. Adding Elements\n",
    "fruits.add(\"mango\")  # Add a single item\n",
    "print(\"3. After Adding 'mango':\", fruits)"
   ]
  },
  {
   "cell_type": "code",
   "execution_count": 4,
   "id": "57766c9b",
   "metadata": {},
   "outputs": [
    {
     "name": "stdout",
     "output_type": "stream",
     "text": [
      "4. After Adding Multiple Items: {'mango', 'grape', 'cherry', 'banana', 'apple', 'kiwi'}\n"
     ]
    }
   ],
   "source": [
    "\n",
    "# 4. Updating with Multiple Elements\n",
    "fruits.update([\"grape\", \"kiwi\"])\n",
    "print(\"4. After Adding Multiple Items:\", fruits)"
   ]
  },
  {
   "cell_type": "code",
   "execution_count": 5,
   "id": "2109dc04",
   "metadata": {},
   "outputs": [
    {
     "name": "stdout",
     "output_type": "stream",
     "text": [
      "5. After Removing Items: {'mango', 'grape', 'cherry', 'apple', 'kiwi'}\n"
     ]
    }
   ],
   "source": [
    "\n",
    "# 5. Removing Elements\n",
    "fruits.remove(\"banana\")  # Raises error if not present\n",
    "fruits.discard(\"pineapple\")  # No error if item doesn't exist\n",
    "print(\"5. After Removing Items:\", fruits)"
   ]
  },
  {
   "cell_type": "code",
   "execution_count": 6,
   "id": "84e1b9de",
   "metadata": {},
   "outputs": [
    {
     "name": "stdout",
     "output_type": "stream",
     "text": [
      "6. Set Length: 5\n"
     ]
    }
   ],
   "source": [
    "\n",
    "# 6. Set Length\n",
    "print(\"6. Set Length:\", len(fruits))"
   ]
  },
  {
   "cell_type": "code",
   "execution_count": 7,
   "id": "f5c751a3",
   "metadata": {},
   "outputs": [
    {
     "name": "stdout",
     "output_type": "stream",
     "text": [
      "7. Is 'apple' in fruits? True\n"
     ]
    }
   ],
   "source": [
    "\n",
    "# 7. Membership Test\n",
    "print(\"7. Is 'apple' in fruits?\", \"apple\" in fruits)"
   ]
  },
  {
   "cell_type": "markdown",
   "id": "14a4cd8c",
   "metadata": {},
   "source": [
    "\n",
    "# ---------------------------------------------\n",
    "# Set Operations: Union, Intersection, Difference\n",
    "# ---------------------------------------------\n"
   ]
  },
  {
   "cell_type": "code",
   "execution_count": 8,
   "id": "f7f1ce67",
   "metadata": {},
   "outputs": [
    {
     "name": "stdout",
     "output_type": "stream",
     "text": [
      "8. Union: {1, 2, 3, 4, 5, 6}\n"
     ]
    }
   ],
   "source": [
    "\n",
    "set_a = {1, 2, 3, 4}\n",
    "set_b = {3, 4, 5, 6}\n",
    "\n",
    "# 8. Union: All elements from both sets\n",
    "print(\"8. Union:\", set_a.union(set_b))  # or set_a | set_b\n"
   ]
  },
  {
   "cell_type": "code",
   "execution_count": 9,
   "id": "ce35af3c",
   "metadata": {},
   "outputs": [
    {
     "name": "stdout",
     "output_type": "stream",
     "text": [
      "9. Intersection: {3, 4}\n"
     ]
    }
   ],
   "source": [
    "\n",
    "# 9. Intersection: Common elements\n",
    "print(\"9. Intersection:\", set_a.intersection(set_b))  # or set_a & set_b"
   ]
  },
  {
   "cell_type": "code",
   "execution_count": 10,
   "id": "ffd9ce5e",
   "metadata": {},
   "outputs": [
    {
     "name": "stdout",
     "output_type": "stream",
     "text": [
      "10. Difference (A - B): {1, 2}\n"
     ]
    }
   ],
   "source": [
    "\n",
    "# 10. Difference: Items in A but not in B\n",
    "print(\"10. Difference (A - B):\", set_a.difference(set_b))  # or set_a - set_b"
   ]
  },
  {
   "cell_type": "code",
   "execution_count": 11,
   "id": "199b747d",
   "metadata": {},
   "outputs": [
    {
     "name": "stdout",
     "output_type": "stream",
     "text": [
      "11. Symmetric Difference: {1, 2, 5, 6}\n"
     ]
    }
   ],
   "source": [
    "\n",
    "# 11. Symmetric Difference: Items in A or B but not both\n",
    "print(\"11. Symmetric Difference:\", set_a.symmetric_difference(set_b))  # or set_a ^ set_b"
   ]
  },
  {
   "cell_type": "markdown",
   "id": "7dc0cb14",
   "metadata": {},
   "source": [
    "# ---------------------------------------------\n",
    "# Advanced Set Operations\n",
    "# ---------------------------------------------\n"
   ]
  },
  {
   "cell_type": "code",
   "execution_count": 12,
   "id": "01407bcf",
   "metadata": {},
   "outputs": [
    {
     "name": "stdout",
     "output_type": "stream",
     "text": [
      "12. A is subset of B? False\n",
      "13. A is superset of B? False\n"
     ]
    }
   ],
   "source": [
    "\n",
    "# 12. Subset and Superset Checks\n",
    "print(\"12. A is subset of B?\", set_a.issubset(set_b))\n",
    "print(\"13. A is superset of B?\", set_a.issuperset(set_b))"
   ]
  },
  {
   "cell_type": "code",
   "execution_count": 13,
   "id": "08150a2e",
   "metadata": {},
   "outputs": [
    {
     "name": "stdout",
     "output_type": "stream",
     "text": [
      "14. Are sets disjoint? True\n"
     ]
    }
   ],
   "source": [
    "\n",
    "# 14. Disjoint Sets (no common elements)\n",
    "print(\"14. Are sets disjoint?\", set_a.isdisjoint({7, 8, 9}))"
   ]
  },
  {
   "cell_type": "code",
   "execution_count": 14,
   "id": "9fd2a9ab",
   "metadata": {},
   "outputs": [
    {
     "name": "stdout",
     "output_type": "stream",
     "text": [
      "15. Copied Set C: {1, 2, 3, 4}\n"
     ]
    }
   ],
   "source": [
    "\n",
    "# 15. Copying Sets\n",
    "set_c = set_a.copy()\n",
    "print(\"15. Copied Set C:\", set_c)"
   ]
  },
  {
   "cell_type": "code",
   "execution_count": 15,
   "id": "fbdb5249",
   "metadata": {},
   "outputs": [
    {
     "name": "stdout",
     "output_type": "stream",
     "text": [
      "16. Cleared Set C: set()\n"
     ]
    }
   ],
   "source": [
    "\n",
    "# 16. Clearing a Set\n",
    "set_c.clear()\n",
    "print(\"16. Cleared Set C:\", set_c)"
   ]
  },
  {
   "cell_type": "code",
   "execution_count": 16,
   "id": "6111b05e",
   "metadata": {},
   "outputs": [
    {
     "name": "stdout",
     "output_type": "stream",
     "text": [
      "17. Unique Numbers: {1, 2, 3, 4, 5}\n"
     ]
    }
   ],
   "source": [
    "\n",
    "# 17. Set from List (to remove duplicates)\n",
    "numbers = [1, 2, 2, 3, 4, 4, 5]\n",
    "unique_numbers = set(numbers)\n",
    "print(\"17. Unique Numbers:\", unique_numbers)"
   ]
  },
  {
   "cell_type": "code",
   "execution_count": 17,
   "id": "939e57c9",
   "metadata": {},
   "outputs": [
    {
     "name": "stdout",
     "output_type": "stream",
     "text": [
      "18. Squares using set comprehension: {1, 4, 9, 16, 25}\n"
     ]
    }
   ],
   "source": [
    "\n",
    "# 18. Set Comprehension (e.g., squares)\n",
    "squares = {x**2 for x in range(1, 6)}\n",
    "print(\"18. Squares using set comprehension:\", squares)"
   ]
  },
  {
   "cell_type": "code",
   "execution_count": 18,
   "id": "62dede7c",
   "metadata": {},
   "outputs": [
    {
     "name": "stdout",
     "output_type": "stream",
     "text": [
      "19. Frozen Set: frozenset({'apple', 'banana', 'cherry'})\n"
     ]
    }
   ],
   "source": [
    "\n",
    "# 19. Frozen Set (Immutable set)\n",
    "frozen = frozenset([\"apple\", \"banana\", \"cherry\"])\n",
    "print(\"19. Frozen Set:\", frozen)"
   ]
  },
  {
   "cell_type": "code",
   "execution_count": 19,
   "id": "f2ea3aeb",
   "metadata": {},
   "outputs": [
    {
     "name": "stdout",
     "output_type": "stream",
     "text": [
      "20. Unique Characters in 'programming': {'i', 'g', 'a', 'n', 'r', 'm', 'o', 'p'}\n"
     ]
    }
   ],
   "source": [
    "\n",
    "# 20. Using Set to Remove Duplicates from String\n",
    "sample = \"programming\"\n",
    "unique_chars = set(sample)\n",
    "print(\"20. Unique Characters in 'programming':\", unique_chars)"
   ]
  }
 ],
 "metadata": {
  "kernelspec": {
   "display_name": "Python 3",
   "language": "python",
   "name": "python3"
  },
  "language_info": {
   "codemirror_mode": {
    "name": "ipython",
    "version": 3
   },
   "file_extension": ".py",
   "mimetype": "text/x-python",
   "name": "python",
   "nbconvert_exporter": "python",
   "pygments_lexer": "ipython3",
   "version": "3.12.0"
  }
 },
 "nbformat": 4,
 "nbformat_minor": 5
}
