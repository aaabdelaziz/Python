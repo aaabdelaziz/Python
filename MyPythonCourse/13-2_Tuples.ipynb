{
 "cells": [
  {
   "cell_type": "markdown",
   "id": "d670d3a0",
   "metadata": {},
   "source": [
    "# ---------------------------------------------\n",
    "# Python Tuple Operations – From Basic to Advanced\n",
    "# ---------------------------------------------"
   ]
  },
  {
   "cell_type": "code",
   "execution_count": 1,
   "id": "1aa14c0d",
   "metadata": {},
   "outputs": [
    {
     "name": "stdout",
     "output_type": "stream",
     "text": [
      "1. Basic Tuple: (1, 2, 3)\n"
     ]
    }
   ],
   "source": [
    "# 1. Creating a Tuple\n",
    "my_tuple = (1, 2, 3)\n",
    "print(\"1. Basic Tuple:\", my_tuple)"
   ]
  },
  {
   "cell_type": "code",
   "execution_count": 2,
   "id": "f16689bd",
   "metadata": {},
   "outputs": [
    {
     "name": "stdout",
     "output_type": "stream",
     "text": [
      "2. Mixed Types Tuple: (42, 'hello', 3.14)\n"
     ]
    }
   ],
   "source": [
    "# 2. Tuples Can Hold Mixed Data Types\n",
    "mixed_tuple = (42, \"hello\", 3.14)\n",
    "print(\"2. Mixed Types Tuple:\", mixed_tuple)"
   ]
  },
  {
   "cell_type": "code",
   "execution_count": 3,
   "id": "48e11d26",
   "metadata": {},
   "outputs": [
    {
     "name": "stdout",
     "output_type": "stream",
     "text": [
      "3. Single Element Tuple: (5,)\n"
     ]
    }
   ],
   "source": [
    "# 3. Tuple with One Element (add a comma!)\n",
    "single_element = (5,)\n",
    "print(\"3. Single Element Tuple:\", single_element)"
   ]
  },
  {
   "cell_type": "code",
   "execution_count": 4,
   "id": "c4522454",
   "metadata": {},
   "outputs": [
    {
     "name": "stdout",
     "output_type": "stream",
     "text": [
      "4. First Element: 1\n",
      "5. Last Element: 3\n"
     ]
    }
   ],
   "source": [
    "# 4. Accessing Elements\n",
    "print(\"4. First Element:\", my_tuple[0])\n",
    "print(\"5. Last Element:\", my_tuple[-1])"
   ]
  },
  {
   "cell_type": "code",
   "execution_count": 5,
   "id": "82865869",
   "metadata": {},
   "outputs": [
    {
     "name": "stdout",
     "output_type": "stream",
     "text": [
      "6. Slice [1:]: (2, 3)\n"
     ]
    }
   ],
   "source": [
    "# 5. Slicing Tuples\n",
    "print(\"6. Slice [1:]:\", my_tuple[1:])"
   ]
  },
  {
   "cell_type": "code",
   "execution_count": 6,
   "id": "072ac450",
   "metadata": {},
   "outputs": [
    {
     "name": "stdout",
     "output_type": "stream",
     "text": [
      "7. Nested Tuple: (1, (2, 3), 4)\n",
      "8. Access Nested Element: 2\n"
     ]
    }
   ],
   "source": [
    "\n",
    "# 6. Nested Tuples\n",
    "nested = (1, (2, 3), 4)\n",
    "print(\"7. Nested Tuple:\", nested)\n",
    "print(\"8. Access Nested Element:\", nested[1][0])  # Access 2"
   ]
  },
  {
   "cell_type": "code",
   "execution_count": 7,
   "id": "f9b4b869",
   "metadata": {},
   "outputs": [
    {
     "name": "stdout",
     "output_type": "stream",
     "text": [
      "9. Length: 3\n"
     ]
    }
   ],
   "source": [
    "# 7. Tuple Length\n",
    "print(\"9. Length:\", len(my_tuple))"
   ]
  },
  {
   "cell_type": "code",
   "execution_count": 8,
   "id": "1b0deccb",
   "metadata": {},
   "outputs": [
    {
     "name": "stdout",
     "output_type": "stream",
     "text": [
      "10. Looping:\n",
      " - 42\n",
      " - hello\n",
      " - 3.14\n"
     ]
    }
   ],
   "source": [
    "# 8. Looping through Tuples\n",
    "print(\"10. Looping:\")\n",
    "for item in mixed_tuple:\n",
    "    print(f\" - {item}\")"
   ]
  },
  {
   "cell_type": "code",
   "execution_count": 9,
   "id": "3448a573",
   "metadata": {},
   "outputs": [
    {
     "name": "stdout",
     "output_type": "stream",
     "text": [
      "11. Concatenated Tuple: (1, 2, 3, 4)\n"
     ]
    }
   ],
   "source": [
    "# 9. Tuple Concatenation\n",
    "tuple1 = (1, 2)\n",
    "tuple2 = (3, 4)\n",
    "combined = tuple1 + tuple2\n",
    "print(\"11. Concatenated Tuple:\", combined)"
   ]
  },
  {
   "cell_type": "code",
   "execution_count": 10,
   "id": "6a16de6e",
   "metadata": {},
   "outputs": [
    {
     "name": "stdout",
     "output_type": "stream",
     "text": [
      "12. Repeated Tuple: (1, 2, 1, 2, 1, 2)\n"
     ]
    }
   ],
   "source": [
    "# 10. Repeating Tuples\n",
    "print(\"12. Repeated Tuple:\", tuple1 * 3)"
   ]
  },
  {
   "cell_type": "code",
   "execution_count": 11,
   "id": "ae9cada8",
   "metadata": {},
   "outputs": [
    {
     "name": "stdout",
     "output_type": "stream",
     "text": [
      "13. Unpacked: Name=John, Age=30, Job=Engineer\n"
     ]
    }
   ],
   "source": [
    "# 11. Tuple Unpacking\n",
    "person = (\"John\", 30, \"Engineer\")\n",
    "name, age, job = person\n",
    "print(f\"13. Unpacked: Name={name}, Age={age}, Job={job}\")"
   ]
  },
  {
   "cell_type": "code",
   "execution_count": 12,
   "id": "9367f73e",
   "metadata": {},
   "outputs": [
    {
     "name": "stdout",
     "output_type": "stream",
     "text": [
      "14. Is 2 in tuple1? True\n"
     ]
    }
   ],
   "source": [
    "# 12. Check Existence of Element\n",
    "print(\"14. Is 2 in tuple1?\", 2 in tuple1)"
   ]
  },
  {
   "cell_type": "code",
   "execution_count": 13,
   "id": "32bf3a76",
   "metadata": {},
   "outputs": [
    {
     "name": "stdout",
     "output_type": "stream",
     "text": [
      "15. Count of 2: 3\n",
      "16. Index of first 3: 3\n"
     ]
    }
   ],
   "source": [
    "# 13. Count and Index\n",
    "sample = (1, 2, 2, 3, 2, 4)\n",
    "print(\"15. Count of 2:\", sample.count(2))\n",
    "print(\"16. Index of first 3:\", sample.index(3))"
   ]
  },
  {
   "cell_type": "markdown",
   "id": "dc548700",
   "metadata": {},
   "source": [
    "# ---------------------------------------------\n",
    "# Advanced Tuple Use Cases\n",
    "# ---------------------------------------------"
   ]
  },
  {
   "cell_type": "code",
   "execution_count": 14,
   "id": "c3d22705",
   "metadata": {},
   "outputs": [],
   "source": [
    "# 14. Tuples are Immutable\n",
    "immutable_test = (10, 20)\n",
    "# immutable_test[0] = 99  # ❌ This would raise TypeError"
   ]
  },
  {
   "cell_type": "code",
   "execution_count": 15,
   "id": "e382bac9",
   "metadata": {},
   "outputs": [
    {
     "name": "stdout",
     "output_type": "stream",
     "text": [
      "17. 2D Tuple Grid:\n",
      "(1, 2)\n",
      "(3, 4)\n",
      "(5, 6)\n"
     ]
    }
   ],
   "source": [
    "# 15. Tuple of Tuples (like a 2D grid)\n",
    "grid = (\n",
    "    (1, 2),\n",
    "    (3, 4),\n",
    "    (5, 6)\n",
    ")\n",
    "print(\"17. 2D Tuple Grid:\")\n",
    "for row in grid:\n",
    "    print(row)"
   ]
  },
  {
   "cell_type": "code",
   "execution_count": 16,
   "id": "69fc6082",
   "metadata": {},
   "outputs": [
    {
     "name": "stdout",
     "output_type": "stream",
     "text": [
      "18. City by Coordinates: New York\n"
     ]
    }
   ],
   "source": [
    "# 16. Using Tuples as Dictionary Keys (hashable!)\n",
    "locations = {\n",
    "    (40.7128, -74.0060): \"New York\",\n",
    "    (48.8566, 2.3522): \"Paris\"\n",
    "}\n",
    "print(\"18. City by Coordinates:\", locations[(40.7128, -74.0060)])"
   ]
  },
  {
   "cell_type": "code",
   "execution_count": 17,
   "id": "19bff05f",
   "metadata": {},
   "outputs": [
    {
     "name": "stdout",
     "output_type": "stream",
     "text": [
      "19. Packed Tuple: (10, 'X')\n"
     ]
    }
   ],
   "source": [
    "# 17. Tuple Packing (grouping values into a tuple implicitly)\n",
    "a = 10\n",
    "b = \"X\"\n",
    "packed = a, b\n",
    "print(\"19. Packed Tuple:\", packed)"
   ]
  },
  {
   "cell_type": "code",
   "execution_count": 18,
   "id": "e9c7e96c",
   "metadata": {},
   "outputs": [
    {
     "name": "stdout",
     "output_type": "stream",
     "text": [
      "20. Function Return Tuple - min: 1 max: 5 sum: 15\n"
     ]
    }
   ],
   "source": [
    "# 18. Return Multiple Values from Function Using Tuples\n",
    "def get_stats(numbers):\n",
    "    return min(numbers), max(numbers), sum(numbers)\n",
    "\n",
    "min_val, max_val, total = get_stats([1, 2, 3, 4, 5])\n",
    "print(\"20. Function Return Tuple - min:\", min_val, \"max:\", max_val, \"sum:\", total)"
   ]
  },
  {
   "cell_type": "code",
   "execution_count": 19,
   "id": "0b69e6e7",
   "metadata": {},
   "outputs": [
    {
     "name": "stdout",
     "output_type": "stream",
     "text": [
      "21. Named Tuple: Point(x=3, y=4)\n",
      " - x: 3 , y: 4\n"
     ]
    }
   ],
   "source": [
    "\n",
    "# 19. Named Tuples (from collections)\n",
    "from collections import namedtuple\n",
    "Point = namedtuple(\"Point\", \"x y\")\n",
    "p = Point(3, 4)\n",
    "print(\"21. Named Tuple:\", p)\n",
    "print(\" - x:\", p.x, \", y:\", p.y)"
   ]
  }
 ],
 "metadata": {
  "kernelspec": {
   "display_name": "Python 3",
   "language": "python",
   "name": "python3"
  },
  "language_info": {
   "codemirror_mode": {
    "name": "ipython",
    "version": 3
   },
   "file_extension": ".py",
   "mimetype": "text/x-python",
   "name": "python",
   "nbconvert_exporter": "python",
   "pygments_lexer": "ipython3",
   "version": "3.12.0"
  }
 },
 "nbformat": 4,
 "nbformat_minor": 5
}
