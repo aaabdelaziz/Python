{
 "cells": [
  {
   "cell_type": "code",
   "execution_count": 2,
   "id": "ece79659",
   "metadata": {},
   "outputs": [
    {
     "name": "stdout",
     "output_type": "stream",
     "text": [
      "cat 3\n",
      "window 6\n",
      "defenestrate 12\n"
     ]
    }
   ],
   "source": [
    "# Measure some strings:\n",
    "words = ['cat', 'window', 'defenestrate']\n",
    "for w in words:\n",
    "    print(w, len(w))  "
   ]
  },
  {
   "cell_type": "code",
   "execution_count": 3,
   "id": "eca83a8e",
   "metadata": {},
   "outputs": [
    {
     "name": "stdout",
     "output_type": "stream",
     "text": [
      "{'Hans': 'active', '景太郎': 'active'}\n"
     ]
    }
   ],
   "source": [
    "\n",
    "\n",
    "# Code that modifies a collection while iterating over that same collection can be tricky to get right. \n",
    "# Instead, it is usually more straight-forward to loop over a copy of the collection or to create a new collection:\n",
    "\n",
    "# Create a sample collection\n",
    "users = {'Hans': 'active', 'Éléonore': 'inactive', '景太郎': 'active'}\n",
    "\n",
    "# Strategy:  Iterate over a copy\n",
    "for user, status in users.copy().items():\n",
    "    if status == 'inactive':\n",
    "        del users[user]\n",
    "\n",
    "print(users)"
   ]
  },
  {
   "cell_type": "code",
   "execution_count": 4,
   "id": "4b0ca1ed",
   "metadata": {},
   "outputs": [
    {
     "name": "stdout",
     "output_type": "stream",
     "text": [
      "{'Hans': 'active', '景太郎': 'active'}\n"
     ]
    }
   ],
   "source": [
    "\n",
    "# Strategy:  Create a new collection\n",
    "active_users = {}\n",
    "for user, status in users.items():\n",
    "    if status == 'active':\n",
    "        active_users[user] = status\n",
    "        \n",
    "print(active_users)        "
   ]
  }
 ],
 "metadata": {
  "kernelspec": {
   "display_name": "base",
   "language": "python",
   "name": "python3"
  },
  "language_info": {
   "codemirror_mode": {
    "name": "ipython",
    "version": 3
   },
   "file_extension": ".py",
   "mimetype": "text/x-python",
   "name": "python",
   "nbconvert_exporter": "python",
   "pygments_lexer": "ipython3",
   "version": "3.12.7"
  }
 },
 "nbformat": 4,
 "nbformat_minor": 5
}
