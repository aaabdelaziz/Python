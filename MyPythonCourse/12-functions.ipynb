{
 "cells": [
  {
   "cell_type": "markdown",
   "id": "c19db34a",
   "metadata": {},
   "source": [
    "# Python Function "
   ]
  },
  {
   "cell_type": "markdown",
   "id": "69517f11",
   "metadata": {},
   "source": [
    "### 1. Basic Function Definition\n",
    "A simple function with no arguments and no return value."
   ]
  },
  {
   "cell_type": "code",
   "execution_count": 1,
   "id": "2d9f5cef",
   "metadata": {},
   "outputs": [
    {
     "name": "stdout",
     "output_type": "stream",
     "text": [
      "Hello, World!\n"
     ]
    }
   ],
   "source": [
    "def greet():\n",
    "    print(\"Hello, World!\")\n",
    "\n",
    "greet()"
   ]
  },
  {
   "cell_type": "markdown",
   "id": "55acf5b7",
   "metadata": {},
   "source": [
    "### 2. Function with Arguments\n",
    "A function that accepts parameters."
   ]
  },
  {
   "cell_type": "code",
   "execution_count": 2,
   "id": "c9689f77",
   "metadata": {},
   "outputs": [
    {
     "name": "stdout",
     "output_type": "stream",
     "text": [
      "Sum: 8\n"
     ]
    }
   ],
   "source": [
    "def add(a, b):\n",
    "    return a + b\n",
    "\n",
    "print(\"Sum:\", add(3, 5))"
   ]
  },
  {
   "cell_type": "markdown",
   "id": "ca110a32",
   "metadata": {},
   "source": [
    "### 3. Function with Default Arguments"
   ]
  },
  {
   "cell_type": "code",
   "execution_count": 3,
   "id": "1a4ac2a9",
   "metadata": {},
   "outputs": [
    {
     "name": "stdout",
     "output_type": "stream",
     "text": [
      "Default exponent (2): 16\n",
      "Custom exponent (3): 64\n"
     ]
    }
   ],
   "source": [
    "def power(base, exponent=2):\n",
    "    return base ** exponent\n",
    "\n",
    "print(\"Default exponent (2):\", power(4))\n",
    "print(\"Custom exponent (3):\", power(4, 3))"
   ]
  },
  {
   "cell_type": "markdown",
   "id": "ecc7bee5",
   "metadata": {},
   "source": [
    "### 4. Function with Keyword Arguments"
   ]
  },
  {
   "cell_type": "code",
   "execution_count": 4,
   "id": "947481e9",
   "metadata": {},
   "outputs": [
    {
     "name": "stdout",
     "output_type": "stream",
     "text": [
      "My name is Alice and I am 30 years old.\n"
     ]
    }
   ],
   "source": [
    "def introduce(name, age):\n",
    "    print(f\"My name is {name} and I am {age} years old.\")\n",
    "\n",
    "introduce(age=30, name=\"Alice\")"
   ]
  },
  {
   "cell_type": "markdown",
   "id": "9219f56f",
   "metadata": {},
   "source": [
    "### 5. Function with Return Statement"
   ]
  },
  {
   "cell_type": "code",
   "execution_count": 5,
   "id": "7ceb6eb0",
   "metadata": {},
   "outputs": [
    {
     "name": "stdout",
     "output_type": "stream",
     "text": [
      "Square of 6: 36\n"
     ]
    }
   ],
   "source": [
    "def square(x):\n",
    "    return x * x\n",
    "\n",
    "result = square(6)\n",
    "print(\"Square of 6:\", result)"
   ]
  },
  {
   "cell_type": "markdown",
   "id": "fe3cbd4c",
   "metadata": {},
   "source": [
    "### 6. Function Returning Multiple Values"
   ]
  },
  {
   "cell_type": "code",
   "execution_count": 6,
   "id": "2b2a82f4",
   "metadata": {},
   "outputs": [
    {
     "name": "stdout",
     "output_type": "stream",
     "text": [
      "Min: 1 Max: 4 Sum: 10\n"
     ]
    }
   ],
   "source": [
    "def stats(numbers):\n",
    "    return min(numbers), max(numbers), sum(numbers)\n",
    "\n",
    "mn, mx, total = stats([1, 2, 3, 4])\n",
    "print(\"Min:\", mn, \"Max:\", mx, \"Sum:\", total)"
   ]
  },
  {
   "cell_type": "markdown",
   "id": "3522c773",
   "metadata": {},
   "source": [
    "### 7. Function with Arbitrary Arguments (`*args`)"
   ]
  },
  {
   "cell_type": "code",
   "execution_count": 7,
   "id": "32240850",
   "metadata": {},
   "outputs": [
    {
     "name": "stdout",
     "output_type": "stream",
     "text": [
      "apple\n",
      "banana\n",
      "cherry\n"
     ]
    }
   ],
   "source": [
    "def print_args(*args):\n",
    "    for arg in args:\n",
    "        print(arg)\n",
    "\n",
    "print_args(\"apple\", \"banana\", \"cherry\")"
   ]
  },
  {
   "cell_type": "markdown",
   "id": "660def1d",
   "metadata": {},
   "source": [
    "### 8. Function with Arbitrary Keyword Arguments (`**kwargs`)"
   ]
  },
  {
   "cell_type": "code",
   "execution_count": 8,
   "id": "938ac034",
   "metadata": {},
   "outputs": [
    {
     "name": "stdout",
     "output_type": "stream",
     "text": [
      "name = Bob\n",
      "age = 25\n"
     ]
    }
   ],
   "source": [
    "def print_kwargs(**kwargs):\n",
    "    for key, value in kwargs.items():\n",
    "        print(f\"{key} = {value}\")\n",
    "\n",
    "print_kwargs(name=\"Bob\", age=25)"
   ]
  },
  {
   "cell_type": "markdown",
   "id": "ff8864cc",
   "metadata": {},
   "source": [
    "### 9. Lambda Function (Anonymous Function)"
   ]
  },
  {
   "cell_type": "code",
   "execution_count": 9,
   "id": "3d637e0e",
   "metadata": {},
   "outputs": [
    {
     "name": "stdout",
     "output_type": "stream",
     "text": [
      "Double of 7: 14\n"
     ]
    }
   ],
   "source": [
    "double = lambda x: x * 2\n",
    "print(\"Double of 7:\", double(7))"
   ]
  },
  {
   "cell_type": "markdown",
   "id": "433d64a7",
   "metadata": {},
   "source": [
    "### 10. Function as Argument"
   ]
  },
  {
   "cell_type": "code",
   "execution_count": 10,
   "id": "30c13e0a",
   "metadata": {},
   "outputs": [
    {
     "name": "stdout",
     "output_type": "stream",
     "text": [
      "Function as argument: 25\n"
     ]
    }
   ],
   "source": [
    "def apply(func, value):\n",
    "    return func(value)\n",
    "\n",
    "def square(x):\n",
    "    return x * x\n",
    "\n",
    "print(\"Function as argument:\", apply(square, 5))"
   ]
  },
  {
   "cell_type": "markdown",
   "id": "4d16afe8",
   "metadata": {},
   "source": [
    "### 11. Nested Functions"
   ]
  },
  {
   "cell_type": "code",
   "execution_count": 11,
   "id": "89e78370",
   "metadata": {},
   "outputs": [
    {
     "name": "stdout",
     "output_type": "stream",
     "text": [
      "Inside inner function\n"
     ]
    }
   ],
   "source": [
    "def outer():\n",
    "    def inner():\n",
    "        print(\"Inside inner function\")\n",
    "    inner()\n",
    "\n",
    "outer()"
   ]
  },
  {
   "cell_type": "markdown",
   "id": "65efbb81",
   "metadata": {},
   "source": [
    "### 12. Recursive Function"
   ]
  },
  {
   "cell_type": "code",
   "execution_count": 12,
   "id": "20b98bb8",
   "metadata": {},
   "outputs": [
    {
     "name": "stdout",
     "output_type": "stream",
     "text": [
      "Factorial of 5: 120\n"
     ]
    }
   ],
   "source": [
    "def factorial(n):\n",
    "    if n == 0:\n",
    "        return 1\n",
    "    return n * factorial(n - 1)\n",
    "\n",
    "print(\"Factorial of 5:\", factorial(5))"
   ]
  },
  {
   "cell_type": "code",
   "execution_count": 13,
   "id": "a9b33ae4",
   "metadata": {},
   "outputs": [
    {
     "name": "stdout",
     "output_type": "stream",
     "text": [
      "This is the main function.\n"
     ]
    }
   ],
   "source": [
    "def main():\n",
    "    # Your main code logic goes here\n",
    "    print(\"This is the main function.\")\n",
    "\n",
    "if __name__ == \"__main__\":\n",
    "    main()\n"
   ]
  }
 ],
 "metadata": {
  "kernelspec": {
   "display_name": "Python 3",
   "language": "python",
   "name": "python3"
  },
  "language_info": {
   "codemirror_mode": {
    "name": "ipython",
    "version": 3
   },
   "file_extension": ".py",
   "mimetype": "text/x-python",
   "name": "python",
   "nbconvert_exporter": "python",
   "pygments_lexer": "ipython3",
   "version": "3.12.0"
  }
 },
 "nbformat": 4,
 "nbformat_minor": 5
}
