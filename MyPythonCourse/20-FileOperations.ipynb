{
 "cells": [
  {
   "cell_type": "markdown",
   "id": "31862678",
   "metadata": {},
   "source": [
    "# 📂 Python File Operations – Read, Write, and More"
   ]
  },
  {
   "cell_type": "markdown",
   "id": "b14f2d4b",
   "metadata": {},
   "source": [
    "### 1. Writing to a File (Creates a new file if not exists)"
   ]
  },
  {
   "cell_type": "code",
   "execution_count": null,
   "id": "57ec6cb9",
   "metadata": {},
   "outputs": [],
   "source": [
    "with open(\"example.txt\", \"w\") as f:\n",
    "    f.write(\"Hello, this is a test file.\\n\")\n",
    "    f.write(\"This is the second line.\")\n",
    "print(\"File written successfully.\")"
   ]
  },
  {
   "cell_type": "markdown",
   "id": "c4b08804",
   "metadata": {},
   "source": [
    "### 2. Reading from a File"
   ]
  },
  {
   "cell_type": "code",
   "execution_count": null,
   "id": "325ffe3a",
   "metadata": {},
   "outputs": [],
   "source": [
    "with open(\"example.txt\", \"r\") as f:\n",
    "    content = f.read()\n",
    "print(\"File content:\")\n",
    "print(content)"
   ]
  },
  {
   "cell_type": "markdown",
   "id": "5a3e304e",
   "metadata": {},
   "source": [
    "### 3. Appending to a File"
   ]
  },
  {
   "cell_type": "code",
   "execution_count": null,
   "id": "524c8bcd",
   "metadata": {},
   "outputs": [],
   "source": [
    "with open(\"example.txt\", \"a\") as f:\n",
    "    f.write(\"\\nThis line is appended.\")\n",
    "print(\"Line appended.\")"
   ]
  },
  {
   "cell_type": "markdown",
   "id": "b9099323",
   "metadata": {},
   "source": [
    "### 4. Reading Line by Line"
   ]
  },
  {
   "cell_type": "code",
   "execution_count": null,
   "id": "4b72bfed",
   "metadata": {},
   "outputs": [],
   "source": [
    "with open(\"example.txt\", \"r\") as f:\n",
    "    for line in f:\n",
    "        print(\"Line:\", line.strip())"
   ]
  },
  {
   "cell_type": "markdown",
   "id": "fed2df9e",
   "metadata": {},
   "source": [
    "### 5. Reading File into a List of Lines"
   ]
  },
  {
   "cell_type": "code",
   "execution_count": null,
   "id": "8f865394",
   "metadata": {},
   "outputs": [],
   "source": [
    "with open(\"example.txt\", \"r\") as f:\n",
    "    lines = f.readlines()\n",
    "print(\"List of lines:\", lines)"
   ]
  },
  {
   "cell_type": "markdown",
   "id": "ffa11525",
   "metadata": {},
   "source": [
    "### 6. Checking if File Exists Before Reading (Recommended Practice)"
   ]
  },
  {
   "cell_type": "code",
   "execution_count": null,
   "id": "f0d51fa4",
   "metadata": {},
   "outputs": [],
   "source": [
    "import os\n",
    "file_path = \"example.txt\"\n",
    "if os.path.exists(file_path):\n",
    "    with open(file_path, \"r\") as f:\n",
    "        print(f.read())\n",
    "else:\n",
    "    print(\"File does not exist.\")"
   ]
  },
  {
   "cell_type": "markdown",
   "id": "a07683fc",
   "metadata": {},
   "source": [
    "### 7. Reading File from a Specific Path"
   ]
  },
  {
   "cell_type": "code",
   "execution_count": null,
   "id": "a2a4cbbe",
   "metadata": {},
   "outputs": [],
   "source": [
    "# Update the path below with your actual file path\n",
    "file_path = \"/mnt/data/example.txt\"  # Example path\n",
    "\n",
    "if os.path.exists(file_path):\n",
    "    with open(file_path, \"r\") as f:\n",
    "        print(\"File content from path:\")\n",
    "        print(f.read())\n",
    "else:\n",
    "    print(\"File not found at:\", file_path)"
   ]
  },
  {
   "cell_type": "markdown",
   "id": "00574777",
   "metadata": {},
   "source": [
    "### 8. Deleting a File"
   ]
  },
  {
   "cell_type": "code",
   "execution_count": null,
   "id": "1a3eecac",
   "metadata": {},
   "outputs": [],
   "source": [
    "if os.path.exists(\"example.txt\"):\n",
    "    os.remove(\"example.txt\")\n",
    "    print(\"File deleted.\")\n",
    "else:\n",
    "    print(\"File not found.\")"
   ]
  }
 ],
 "metadata": {},
 "nbformat": 4,
 "nbformat_minor": 5
}
