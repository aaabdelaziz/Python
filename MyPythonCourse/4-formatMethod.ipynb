{
 "cells": [
  {
   "cell_type": "code",
   "execution_count": null,
   "id": "21a2037c",
   "metadata": {},
   "outputs": [],
   "source": [
    "age = 25\n",
    "name = \"Ahmed\"\n",
    "\n",
    "\n",
    "print('My friends name is {0} '.format(name))\n",
    "print('{0} is {1} years old'.format(name,age))\n",
    "print('{0:.3}'.format(1/3)) # decimal precision for 3 for float\n",
    "print('{0:_^10}'.format('hello')) # fill with underscores for a width of 10 characters\n",
    "print('{name} wrote {book}'.format(name='Swaroop',book='A book of python'))"
   ]
  }
 ],
 "metadata": {
  "language_info": {
   "name": "python"
  }
 },
 "nbformat": 4,
 "nbformat_minor": 5
}
