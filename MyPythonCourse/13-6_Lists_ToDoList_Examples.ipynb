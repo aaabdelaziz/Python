{
 "cells": [
  {
   "cell_type": "markdown",
   "id": "410d79dd",
   "metadata": {},
   "source": [
    "# ####################################\n",
    "#  Create a To Do List Exmaple\n",
    "# #######################################"
   ]
  },
  {
   "cell_type": "markdown",
   "id": "5e3ac309",
   "metadata": {},
   "source": [
    "# Example1. TO DO LIST"
   ]
  },
  {
   "cell_type": "code",
   "execution_count": 8,
   "id": "423d8e4d",
   "metadata": {},
   "outputs": [
    {
     "name": "stdout",
     "output_type": "stream",
     "text": [
      "Don't forget the Bills !\n",
      "\n",
      "The remaining Tasks are:\n",
      "\n",
      "----Buy vegetables\n",
      "----Send a letter\n",
      "----Pay bills\n",
      "----Clean House\n",
      "----Go swimming\n",
      "----Go for lunch\n"
     ]
    }
   ],
   "source": [
    "to_do_list = [\"Buy vegetables\", \"Buy frunits\", \"Send a letter\", \"Pay bills\", \"Clean House\" ]\n",
    "\n",
    "# Adding more tasks to the list\n",
    "to_do_list.append(\"Go swimming\")\n",
    "to_do_list.append(\"Go for lunch\")\n",
    "\n",
    "# Remove task\n",
    "to_do_list.remove(\"Buy frunits\")\n",
    "\n",
    "# Check if a task is in list\n",
    "if \"Pay bills\" in to_do_list:\n",
    "    print(\"Don't forget the Bills !\")\n",
    "\n",
    "print(\"\\nThe remaining Tasks are:\\n\")\n",
    "\n",
    "for task in to_do_list:\n",
    "    print(f\"----{task}\")"
   ]
  },
  {
   "cell_type": "markdown",
   "id": "49273f41",
   "metadata": {},
   "source": [
    "# Example 2. User Feedback"
   ]
  },
  {
   "cell_type": "code",
   "execution_count": 9,
   "id": "c8451fe6",
   "metadata": {},
   "outputs": [
    {
     "name": "stdout",
     "output_type": "stream",
     "text": [
      "Positive Feedback Count: 2\n",
      "\n",
      "User Feedback:\n",
      "- Great service!\n",
      "- Very satisfied\n",
      "- Could be better\n",
      "- Excellent experience\n",
      "- Not happy with the service\n"
     ]
    }
   ],
   "source": [
    "# Collecting user feedback\n",
    "feedback = [\"Great service!\", \"Very satisfied\", \"Could be better\", \"Excellent experience\"]\n",
    "\n",
    "# Adding new feedback\n",
    "feedback.append(\"Not happy with the service\")\n",
    "\n",
    "# Counting specific (positive) feedback based on keywords\n",
    "positive_feedback_count = sum(\n",
    "    1 for comment in feedback\n",
    "    if \"great\" in comment.lower() or \"excellent\" in comment.lower()\n",
    ")\n",
    "\n",
    "print(f\"Positive Feedback Count: {positive_feedback_count}\\n\")\n",
    "\n",
    "# Printing all feedback\n",
    "print(\"User Feedback:\")\n",
    "for comment in feedback:\n",
    "    print(f\"- {comment}\")\n"
   ]
  }
 ],
 "metadata": {
  "kernelspec": {
   "display_name": "Python 3",
   "language": "python",
   "name": "python3"
  },
  "language_info": {
   "codemirror_mode": {
    "name": "ipython",
    "version": 3
   },
   "file_extension": ".py",
   "mimetype": "text/x-python",
   "name": "python",
   "nbconvert_exporter": "python",
   "pygments_lexer": "ipython3",
   "version": "3.12.0"
  }
 },
 "nbformat": 4,
 "nbformat_minor": 5
}
