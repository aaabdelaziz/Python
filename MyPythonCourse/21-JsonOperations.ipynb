{
 "cells": [
  {
   "cell_type": "markdown",
   "id": "2f675f3d",
   "metadata": {},
   "source": [
    "#  Python JSON Conversion Examples"
   ]
  },
  {
   "cell_type": "markdown",
   "id": "2173f96c",
   "metadata": {},
   "source": [
    "### 1. Convert JSON String to Python Object (dict)"
   ]
  },
  {
   "cell_type": "code",
   "execution_count": 1,
   "id": "93be411a",
   "metadata": {},
   "outputs": [
    {
     "name": "stdout",
     "output_type": "stream",
     "text": [
      "JSON string to dict: {'name': 'Alice', 'age': 30}\n"
     ]
    }
   ],
   "source": [
    "import json\n",
    "\n",
    "json_str = '{\"name\": \"Alice\", \"age\": 30}'\n",
    "py_obj = json.loads(json_str)  # Converts JSON string to Python dict\n",
    "print(\"JSON string to dict:\", py_obj)"
   ]
  },
  {
   "cell_type": "markdown",
   "id": "7ee39a17",
   "metadata": {},
   "source": [
    "### 2. Convert Python Dict to JSON String"
   ]
  },
  {
   "cell_type": "code",
   "execution_count": 2,
   "id": "72952e86",
   "metadata": {},
   "outputs": [
    {
     "name": "stdout",
     "output_type": "stream",
     "text": [
      "Dict to JSON string: {\"city\": \"Berlin\", \"population\": 3769000}\n"
     ]
    }
   ],
   "source": [
    "data = {\"city\": \"Berlin\", \"population\": 3769000}\n",
    "json_string = json.dumps(data)  # Converts dict to JSON string\n",
    "print(\"Dict to JSON string:\", json_string)"
   ]
  },
  {
   "cell_type": "markdown",
   "id": "03e6f259",
   "metadata": {},
   "source": [
    "### 3. Convert Python List to JSON Array String"
   ]
  },
  {
   "cell_type": "code",
   "execution_count": 3,
   "id": "dce11657",
   "metadata": {},
   "outputs": [
    {
     "name": "stdout",
     "output_type": "stream",
     "text": [
      "List to JSON array string: [\"apple\", \"banana\", \"cherry\"]\n"
     ]
    }
   ],
   "source": [
    "fruits = [\"apple\", \"banana\", \"cherry\"]\n",
    "json_array_str = json.dumps(fruits)\n",
    "print(\"List to JSON array string:\", json_array_str)"
   ]
  },
  {
   "cell_type": "markdown",
   "id": "a7738b4a",
   "metadata": {},
   "source": [
    "### 4. Convert JSON Array String to Python List"
   ]
  },
  {
   "cell_type": "code",
   "execution_count": 4,
   "id": "01f5d682",
   "metadata": {},
   "outputs": [
    {
     "name": "stdout",
     "output_type": "stream",
     "text": [
      "JSON array string to list: ['red', 'green', 'blue']\n"
     ]
    }
   ],
   "source": [
    "json_arr = '[\"red\", \"green\", \"blue\"]'\n",
    "py_list = json.loads(json_arr)\n",
    "print(\"JSON array string to list:\", py_list)"
   ]
  },
  {
   "cell_type": "markdown",
   "id": "d90d6317",
   "metadata": {},
   "source": [
    "### 5. Pretty Print JSON String with Indentation"
   ]
  },
  {
   "cell_type": "code",
   "execution_count": 5,
   "id": "8adc7b07",
   "metadata": {},
   "outputs": [
    {
     "name": "stdout",
     "output_type": "stream",
     "text": [
      "Pretty JSON string:\n",
      " {\n",
      "    \"name\": \"John\",\n",
      "    \"age\": 25,\n",
      "    \"languages\": [\n",
      "        \"English\",\n",
      "        \"German\"\n",
      "    ]\n",
      "}\n"
     ]
    }
   ],
   "source": [
    "person = {\n",
    "    \"name\": \"John\",\n",
    "    \"age\": 25,\n",
    "    \"languages\": [\"English\", \"German\"]\n",
    "}\n",
    "pretty_json = json.dumps(person, indent=4)\n",
    "print(\"Pretty JSON string:\\n\", pretty_json)"
   ]
  }
 ],
 "metadata": {
  "kernelspec": {
   "display_name": "Python 3",
   "language": "python",
   "name": "python3"
  },
  "language_info": {
   "codemirror_mode": {
    "name": "ipython",
    "version": 3
   },
   "file_extension": ".py",
   "mimetype": "text/x-python",
   "name": "python",
   "nbconvert_exporter": "python",
   "pygments_lexer": "ipython3",
   "version": "3.12.0"
  }
 },
 "nbformat": 4,
 "nbformat_minor": 5
}
