{
 "cells": [
  {
   "cell_type": "code",
   "execution_count": null,
   "id": "7eea9374",
   "metadata": {},
   "outputs": [],
   "source": [
    "# 1. Basic While Loop\n",
    "# Print numbers from 1 to 5\n",
    "i = 1\n",
    "while i <= 5:\n",
    "    print(i)\n",
    "    i += 1\n"
   ]
  },
  {
   "cell_type": "code",
   "execution_count": null,
   "id": "dc8847e4",
   "metadata": {},
   "outputs": [],
   "source": [
    "# 2. While Loop with a Break Statement\n",
    "# Stop the loop when i reaches 3\n",
    "i = 1\n",
    "while i <= 5:\n",
    "    if i == 3:\n",
    "        print(\"Breaking at 3\")\n",
    "        break\n",
    "    print(i)\n",
    "    i += 1\n"
   ]
  },
  {
   "cell_type": "code",
   "execution_count": null,
   "id": "0d2ec73e",
   "metadata": {},
   "outputs": [],
   "source": [
    "# 3. While Loop with Continue Statement\n",
    "# Skip number 3\n",
    "i = 0\n",
    "while i < 5:\n",
    "    i += 1\n",
    "    if i == 3:\n",
    "        continue\n",
    "    print(i)\n"
   ]
  },
  {
   "cell_type": "code",
   "execution_count": null,
   "id": "88bdbea7",
   "metadata": {},
   "outputs": [],
   "source": [
    "# 4. Infinite Loop with Manual Break\n",
    "# Common pattern in user input scenarios\n",
    "while True:\n",
    "    response = input(\"Type 'exit' to quit: \")\n",
    "    if response.lower() == 'exit':\n",
    "        print(\"Exiting loop.\")\n",
    "        break\n",
    "    print(\"You typed:\", response)\n"
   ]
  },
  {
   "cell_type": "code",
   "execution_count": null,
   "id": "75d93908",
   "metadata": {},
   "outputs": [],
   "source": [
    "# 5. Countdown Timer Example\n",
    "# Countdown from 5 to 0\n",
    "import time\n",
    "\n",
    "count = 5\n",
    "while count >= 0:\n",
    "    print(f\"Countdown: {count}\")\n",
    "    time.sleep(1)  # Wait for 1 second\n",
    "    count -= 1\n"
   ]
  },
  {
   "cell_type": "code",
   "execution_count": null,
   "id": "dc193ead",
   "metadata": {},
   "outputs": [],
   "source": [
    "# 6. Using While Loop with Lists\n",
    "# Remove elements from a list until empty\n",
    "fruits = [\"apple\", \"banana\", \"cherry\"]\n",
    "while fruits:\n",
    "    print(\"Removing:\", fruits.pop())\n"
   ]
  },
  {
   "cell_type": "code",
   "execution_count": null,
   "id": "1d6caf26",
   "metadata": {},
   "outputs": [],
   "source": [
    "# 7. While Loop with Else Clause\n",
    "# The else block executes when the loop is not terminated by `break`\n",
    "i = 0\n",
    "while i < 3:\n",
    "    print(\"i =\", i)\n",
    "    i += 1\n",
    "else:\n",
    "    print(\"Loop finished without break.\")\n"
   ]
  },
  {
   "cell_type": "code",
   "execution_count": null,
   "id": "1c30e28a",
   "metadata": {},
   "outputs": [],
   "source": [
    "while True:\n",
    "    pass  "
   ]
  }
 ],
 "metadata": {
  "language_info": {
   "name": "python"
  }
 },
 "nbformat": 4,
 "nbformat_minor": 5
}
