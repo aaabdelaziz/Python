{
 "cells": [
  {
   "cell_type": "code",
   "execution_count": 10,
   "id": "be2ae580",
   "metadata": {},
   "outputs": [
    {
     "name": "stdout",
     "output_type": "stream",
     "text": [
      "This is the life\n",
      "What's your name?\n",
      "\n",
      "printing bachslash \\\n"
     ]
    }
   ],
   "source": [
    "#1- Single quote #\n",
    "print('This is the life')\n",
    "print('What\\'s your name?\\n')   # I have to put escape character if I'm using single quote string\n",
    "print('printing bachslash \\\\')   # you have to escape the backslash here to print it"
   ]
  },
  {
   "cell_type": "code",
   "execution_count": 11,
   "id": "6d05662b",
   "metadata": {},
   "outputs": [
    {
     "name": "stdout",
     "output_type": "stream",
     "text": [
      "What's your name?\n",
      "\n",
      "printing bachslash \\\n"
     ]
    }
   ],
   "source": [
    "\n",
    "#2- Double quotes #\n",
    "print(\"What's your name?\\n\")   # No need for escape character in a double quotes string\n",
    "print(\"printing bachslash \\\\\")   # you have to escape the backslash here to print it"
   ]
  },
  {
   "cell_type": "code",
   "execution_count": 12,
   "id": "3b8bfa03",
   "metadata": {},
   "outputs": [
    {
     "name": "stdout",
     "output_type": "stream",
     "text": [
      "This is the first sentence.    This is the second sentence.\n"
     ]
    }
   ],
   "source": [
    "\n",
    "#Escape sequence \n",
    "print(\"This is the first sentence.\\\n",
    "    This is the second sentence.\")"
   ]
  },
  {
   "cell_type": "code",
   "execution_count": 13,
   "id": "b352730b",
   "metadata": {},
   "outputs": [
    {
     "name": "stdout",
     "output_type": "stream",
     "text": [
      " This is a multiline string. This is the first line.\n",
      "      This is the second line.\n",
      "      \"What's your name? \", I asked.\n",
      "      \\ $He said\n",
      " \"Bond, James Bond\".\n",
      "      \n",
      " This is a multiline string. This is the first line.\n",
      "      This is the second line.\n",
      "      \"What's your name? \", I asked.\n",
      "      \\ He said \"Bond, James Bond\".\n",
      "      \n"
     ]
    }
   ],
   "source": [
    "#3- Triple quotes #\n",
    "# it allow to use multiline and also to use special characters\n",
    "print(''' This is a multiline string. This is the first line.\n",
    "      This is the second line.\n",
    "      \"What's your name? \", I asked.\n",
    "      \\\\ $He said\\n \"Bond, James Bond\".\n",
    "      ''')\n",
    "\n",
    "print(\"\"\" This is a multiline string. This is the first line.\n",
    "      This is the second line.\n",
    "      \"What's your name? \", I asked.\n",
    "      \\\\ He said \"Bond, James Bond\".\n",
    "      \"\"\")\n"
   ]
  },
  {
   "cell_type": "code",
   "execution_count": 14,
   "id": "9d94e41f",
   "metadata": {},
   "outputs": [
    {
     "name": "stdout",
     "output_type": "stream",
     "text": [
      "New lines are \\ /indicated by \\n\n",
      "New lines are \\ / indicated by \\n\n",
      "New lines are \\ / indicated by \\n\n"
     ]
    }
   ],
   "source": [
    "\n",
    "#4-Raw Strings\n",
    "# If you need to specify some strings where no special processing such as escape sequences are handled, then what you need is to specify a raw string by prefixing r or R to the string. An example is r\"Newlines are indicated by \\n\".\n",
    "print(r'New lines are \\ /indicated by \\n')\n",
    "print(r\"New lines are \\ / indicated by \\n\")\n",
    "print(r'''New lines are \\ / indicated by \\n''')"
   ]
  }
 ],
 "metadata": {
  "kernelspec": {
   "display_name": "base",
   "language": "python",
   "name": "python3"
  },
  "language_info": {
   "codemirror_mode": {
    "name": "ipython",
    "version": 3
   },
   "file_extension": ".py",
   "mimetype": "text/x-python",
   "name": "python",
   "nbconvert_exporter": "python",
   "pygments_lexer": "ipython3",
   "version": "3.12.7"
  }
 },
 "nbformat": 4,
 "nbformat_minor": 5
}
