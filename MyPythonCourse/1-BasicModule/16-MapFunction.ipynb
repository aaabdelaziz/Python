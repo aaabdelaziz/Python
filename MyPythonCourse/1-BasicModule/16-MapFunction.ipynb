{
 "cells": [
  {
   "cell_type": "markdown",
   "id": "878c81e8",
   "metadata": {},
   "source": [
    "# Python `map()` Function – Basic to Advanced Examples"
   ]
  },
  {
   "cell_type": "markdown",
   "id": "0b17dc5c",
   "metadata": {},
   "source": [
    "### 1. Basic Usage with Built-in Function\n",
    "Use `map()` to apply `str` to each element of a list."
   ]
  },
  {
   "cell_type": "code",
   "execution_count": 1,
   "id": "461f1f18",
   "metadata": {},
   "outputs": [
    {
     "name": "stdout",
     "output_type": "stream",
     "text": [
      "Stringified Numbers: ['1', '2', '3', '4']\n"
     ]
    }
   ],
   "source": [
    "numbers = [1, 2, 3, 4]\n",
    "stringified = list(map(str, numbers))\n",
    "print(\"Stringified Numbers:\", stringified)"
   ]
  },
  {
   "cell_type": "markdown",
   "id": "e4ecc655",
   "metadata": {},
   "source": [
    "### 2. Using `map()` with a Lambda Function\n",
    "Multiply each number by 2."
   ]
  },
  {
   "cell_type": "code",
   "execution_count": 2,
   "id": "5a12c9a0",
   "metadata": {},
   "outputs": [
    {
     "name": "stdout",
     "output_type": "stream",
     "text": [
      "Doubled Numbers: [2, 4, 6, 8]\n"
     ]
    }
   ],
   "source": [
    "doubled = list(map(lambda x: x * 2, numbers))\n",
    "print(\"Doubled Numbers:\", doubled)"
   ]
  },
  {
   "cell_type": "markdown",
   "id": "ab98f563",
   "metadata": {},
   "source": [
    "### 3. Using `map()` with a Defined Function"
   ]
  },
  {
   "cell_type": "code",
   "execution_count": 3,
   "id": "883ddd93",
   "metadata": {},
   "outputs": [
    {
     "name": "stdout",
     "output_type": "stream",
     "text": [
      "Squares: [1, 4, 9, 16]\n"
     ]
    }
   ],
   "source": [
    "def square(x):\n",
    "    return x ** 2\n",
    "\n",
    "squares = list(map(square, numbers))\n",
    "print(\"Squares:\", squares)"
   ]
  },
  {
   "cell_type": "markdown",
   "id": "acbd4d2e",
   "metadata": {},
   "source": [
    "### 4. Applying `map()` to Two Lists"
   ]
  },
  {
   "cell_type": "code",
   "execution_count": 4,
   "id": "9b771409",
   "metadata": {},
   "outputs": [
    {
     "name": "stdout",
     "output_type": "stream",
     "text": [
      "Element-wise Sums: [5, 7, 9]\n"
     ]
    }
   ],
   "source": [
    "a = [1, 2, 3]\n",
    "b = [4, 5, 6]\n",
    "sums = list(map(lambda x, y: x + y, a, b))\n",
    "print(\"Element-wise Sums:\", sums)"
   ]
  },
  {
   "cell_type": "markdown",
   "id": "8cd7506a",
   "metadata": {},
   "source": [
    "### 5. Convert Strings to Integers using `map()`"
   ]
  },
  {
   "cell_type": "code",
   "execution_count": 5,
   "id": "e4ca2b1c",
   "metadata": {},
   "outputs": [
    {
     "name": "stdout",
     "output_type": "stream",
     "text": [
      "Converted to Integers: [10, 20, 30]\n"
     ]
    }
   ],
   "source": [
    "str_numbers = ['10', '20', '30']\n",
    "int_numbers = list(map(int, str_numbers))\n",
    "print(\"Converted to Integers:\", int_numbers)"
   ]
  },
  {
   "cell_type": "markdown",
   "id": "b4cd20fe",
   "metadata": {},
   "source": [
    "### 6. Strip Whitespace from a List of Strings"
   ]
  },
  {
   "cell_type": "code",
   "execution_count": 6,
   "id": "f22b3ad0",
   "metadata": {},
   "outputs": [
    {
     "name": "stdout",
     "output_type": "stream",
     "text": [
      "Cleaned Strings: ['apple', 'banana', 'cherry']\n"
     ]
    }
   ],
   "source": [
    "dirty_strings = ['  apple  ', ' banana ', 'cherry  ']\n",
    "cleaned = list(map(str.strip, dirty_strings))\n",
    "print(\"Cleaned Strings:\", cleaned)"
   ]
  },
  {
   "cell_type": "markdown",
   "id": "28614dec",
   "metadata": {},
   "source": [
    "### 7. Convert List of Tuples to List of Strings"
   ]
  },
  {
   "cell_type": "code",
   "execution_count": 7,
   "id": "22cfb967",
   "metadata": {},
   "outputs": [
    {
     "name": "stdout",
     "output_type": "stream",
     "text": [
      "Formatted Pairs: ['1-a', '2-b', '3-c']\n"
     ]
    }
   ],
   "source": [
    "pairs = [(1, 'a'), (2, 'b'), (3, 'c')]\n",
    "combined = list(map(lambda x: f\"{x[0]}-{x[1]}\", pairs))\n",
    "print(\"Formatted Pairs:\", combined)"
   ]
  },
  {
   "cell_type": "markdown",
   "id": "5011f716",
   "metadata": {},
   "source": [
    "### 8. Using `map()` with `None` and Multiple Iterables (Python 2 style compatibility note)\n",
    "Note: In Python 3, `map(None, ...)` is invalid."
   ]
  },
  {
   "cell_type": "code",
   "execution_count": 8,
   "id": "4fc05072",
   "metadata": {},
   "outputs": [
    {
     "name": "stdout",
     "output_type": "stream",
     "text": [
      "Zipped Items: [(1, 4), (2, 5), (3, 6)]\n"
     ]
    }
   ],
   "source": [
    "# Python 3 doesn't support map(None, ...), use zip instead:\n",
    "a = [1, 2, 3]\n",
    "b = [4, 5, 6]\n",
    "combined = list(map(lambda x: x, zip(a, b)))\n",
    "print(\"Zipped Items:\", combined)"
   ]
  },
  {
   "cell_type": "markdown",
   "id": "8604885b",
   "metadata": {},
   "source": [
    "### 9. Using `map()` with `filter()` and `reduce()` Together"
   ]
  },
  {
   "cell_type": "code",
   "execution_count": 9,
   "id": "abcf5312",
   "metadata": {},
   "outputs": [
    {
     "name": "stdout",
     "output_type": "stream",
     "text": [
      "Sum of Squares of Even Numbers: 56\n"
     ]
    }
   ],
   "source": [
    "from functools import reduce\n",
    "\n",
    "nums = [1, 2, 3, 4, 5, 6]\n",
    "even_squared_sum = reduce(\n",
    "    lambda acc, x: acc + x,\n",
    "    map(lambda x: x**2, filter(lambda x: x % 2 == 0, nums))\n",
    ")\n",
    "print(\"Sum of Squares of Even Numbers:\", even_squared_sum)"
   ]
  }
 ],
 "metadata": {
  "kernelspec": {
   "display_name": "Python 3",
   "language": "python",
   "name": "python3"
  },
  "language_info": {
   "codemirror_mode": {
    "name": "ipython",
    "version": 3
   },
   "file_extension": ".py",
   "mimetype": "text/x-python",
   "name": "python",
   "nbconvert_exporter": "python",
   "pygments_lexer": "ipython3",
   "version": "3.12.0"
  }
 },
 "nbformat": 4,
 "nbformat_minor": 5
}
