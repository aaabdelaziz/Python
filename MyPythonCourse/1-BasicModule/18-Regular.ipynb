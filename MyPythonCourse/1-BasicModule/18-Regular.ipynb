{
 "cells": [
  {
   "cell_type": "code",
   "execution_count": null,
   "id": "55432a33",
   "metadata": {},
   "outputs": [],
   "source": [
    "import re\n",
    "\n",
    "text_to_search = '''\n",
    "abcdefghijklmnopqrstuvwxyz\n",
    "ABCDEFGHIJKLMNOPQRSTUVWXYZ\n",
    "abcdefghijklmnopqrstuvwxyz\n",
    "1234567890\n",
    "\n",
    "Ha HaHa\n",
    "MetaCharacters (Need to be escaped):\n",
    ". ^ $ * + ? {  [ ] \\ ( )\n",
    "123.355.2331\n",
    "321-555-4321\n",
    "coreyms.com\n",
    "Mr. Schafer\n",
    "Ms Davis\n",
    "Mr.T\n",
    "'''"
   ]
  },
  {
   "cell_type": "code",
   "execution_count": null,
   "id": "4af3e8f7",
   "metadata": {},
   "outputs": [],
   "source": [
    "\n",
    "# Get the pattern of raw string literally that has exact string 'abc'\n",
    "pattern = re.compile(r'abc')\n",
    "# find that pattern in the text to search\n",
    "matches = pattern.finditer(text_to_search)\n",
    "\n",
    "print('============(example 1) print all matches for \"abcd\" in a string')\n",
    "\n",
    "# print all matches\n",
    "for match in matches:\n",
    "    print(match)"
   ]
  },
  {
   "cell_type": "code",
   "execution_count": null,
   "id": "c13b9f59",
   "metadata": {},
   "outputs": [],
   "source": [
    "# check the string slices from 1 to 4\n",
    "print(text_to_search[1:4])\n",
    "# It will print all matches, span gives the number of the character as the begining of that match and the endingings character nubmer of the match.\n",
    "# <re.Match object; span=(1, 4), match='abc'>  --> it finds a match at character number 1 and end at character number 4\n",
    "# <re.Match object; span=(55, 58), match='abc'>  --> again another match at character number 28 till character 31"
   ]
  },
  {
   "cell_type": "code",
   "execution_count": null,
   "id": "73dd8cbf",
   "metadata": {},
   "outputs": [],
   "source": [
    "\n",
    "# ---------------------- Reqular expressions ----------- #\n",
    "# .     matches any character except a new line\n",
    "# \\d    matches any digit (0-9)\n",
    "# \\D    matches any character which is not a digit\n",
    "# \\w    mathces any word character (a-z, A-Z, 0-9, _)\n",
    "# \\W    matches any character that is not a word character\n",
    "# \\s    matches any character that is a white space ( space, tab, newline )\n",
    "# \\S    mathces any character that is not a white space ( not space, not a tab, not a newline)\n",
    "# \\b    mathces a word boundry for some word start by a sequence of characters or have a space before that sequence\n",
    "# \\B    mathces any character that is not a word boundary\n",
    "# --------------------------------- #\n",
    "print('============(example 2) print all matches for \".\" in a string')\n",
    "# Get the pattern of raw string literally that has exact string 'abc'\n",
    "pattern = re.compile(r'.')\n",
    "# find that pattern in the text to search\n",
    "matches = pattern.finditer(text_to_search)\n",
    "\n",
    "for match in matches:\n",
    "    print(match)"
   ]
  },
  {
   "cell_type": "code",
   "execution_count": null,
   "id": "616894ab",
   "metadata": {},
   "outputs": [],
   "source": [
    "# . is a special character in regualr expressions means for any character that is existed every where in the string,\n",
    "# So we need to escape it with backslash\n",
    "# --------------------------------- #\n",
    "print('============(example 3) print all matches for \".\" in a string')\n",
    "pattern = re.compile(r'\\.')\n",
    "# find that pattern in the text to search\n",
    "matches = pattern.finditer(text_to_search)\n",
    "\n",
    "for match in matches:\n",
    "    print(match)"
   ]
  },
  {
   "cell_type": "code",
   "execution_count": null,
   "id": "19d4e001",
   "metadata": {},
   "outputs": [],
   "source": [
    "\n",
    "# --------------------------------- #\n",
    "print('============(example 4)  search coreyms.com in the string')\n",
    "pattern = re.compile(r'coreyms\\.com')\n",
    "# find that pattern in the text to search\n",
    "matches = pattern.finditer(text_to_search)\n",
    "\n",
    "for match in matches:\n",
    "    print(match)\n"
   ]
  },
  {
   "cell_type": "code",
   "execution_count": null,
   "id": "2923644b",
   "metadata": {},
   "outputs": [],
   "source": [
    "\n",
    "print('============(example 5)  search any digit between 0 and 9 the string')\n",
    "pattern = re.compile(r'\\d')\n",
    "# find that pattern in the text to search\n",
    "matches = pattern.finditer(text_to_search)\n",
    "\n",
    "for match in matches:\n",
    "    print(match)\n"
   ]
  },
  {
   "cell_type": "code",
   "execution_count": null,
   "id": "35ba66ef",
   "metadata": {},
   "outputs": [],
   "source": [
    "print('============(example 6)  search any character except digits between 0 and 9 the string')\n",
    "pattern = re.compile(r'\\D')\n",
    "# find that pattern in the text to search\n",
    "matches = pattern.finditer(text_to_search)\n",
    "\n",
    "for match in matches:\n",
    "    print(match)"
   ]
  },
  {
   "cell_type": "code",
   "execution_count": null,
   "id": "13f52b09",
   "metadata": {},
   "outputs": [],
   "source": [
    "\n",
    "print('============(example 7)  search any word character (a-z, A-Z, 0-9, _)')\n",
    "pattern = re.compile(r'\\w')\n",
    "# find that pattern in the text to search\n",
    "matches = pattern.finditer(text_to_search)\n",
    "\n",
    "for match in matches:\n",
    "    print(match)"
   ]
  },
  {
   "cell_type": "code",
   "execution_count": null,
   "id": "49f8edec",
   "metadata": {},
   "outputs": [],
   "source": [
    "\n",
    "print('============(example 8)  search anything that is not a word character (a-z, A-Z, 0-9, _)')\n",
    "pattern = re.compile(r'\\W')\n",
    "# find that pattern in the text to search\n",
    "matches = pattern.finditer(text_to_search)\n",
    "\n",
    "for match in matches:\n",
    "    print(match)\n"
   ]
  },
  {
   "cell_type": "code",
   "execution_count": null,
   "id": "4e640caa",
   "metadata": {},
   "outputs": [],
   "source": [
    "print('============(example 9)  search any thing that is a white space ( space, tab, newline )')\n",
    "pattern = re.compile(r'\\s')\n",
    "# find that pattern in the text to search\n",
    "matches = pattern.finditer(text_to_search)\n",
    "\n",
    "for match in matches:\n",
    "    print(match)"
   ]
  },
  {
   "cell_type": "code",
   "execution_count": null,
   "id": "eab21242",
   "metadata": {},
   "outputs": [],
   "source": [
    "\n",
    "print('============(example 10)  search any thing that is not a white space ( space, tab, newline )')\n",
    "\n",
    "pattern = re.compile(r'\\S')\n",
    "# find that pattern in the text to search\n",
    "matches = pattern.finditer(text_to_search)\n",
    "\n",
    "for match in matches:\n",
    "    print(match)\n"
   ]
  },
  {
   "cell_type": "code",
   "execution_count": null,
   "id": "57396758",
   "metadata": {},
   "outputs": [],
   "source": [
    "\n",
    "print('============(example 11)  search any that has word boundary start by Ha )')\n",
    "# it will match any word boundary that start by (Ha) or (space then Ha)\n",
    "pattern = re.compile(r'\\bHa')\n",
    "# find that pattern in the text to search\n",
    "matches = pattern.finditer(text_to_search)\n",
    "\n",
    "for match in matches:\n",
    "    print(match)"
   ]
  },
  {
   "cell_type": "code",
   "execution_count": null,
   "id": "a2995446",
   "metadata": {},
   "outputs": [],
   "source": [
    "\n",
    "print('============(example 12)  search for any starting word \\'This\\' of a string  )')\n",
    "\n",
    "sentence = 'This is a sequence and then it brings it to an end'\n",
    "pattern = re.compile(r'^has')  # has is not a start of a string, so no match\n",
    "# find that pattern in the text to search\n",
    "matches = pattern.finditer(sentence)\n",
    "\n",
    "for match in matches:\n",
    "    print(match)\n",
    "\n",
    "# This is a start word of the string and will give match\n",
    "pattern = re.compile(r'^This')\n",
    "# find that pattern in the text to search\n",
    "matches = pattern.finditer(sentence)\n",
    "\n",
    "for match in matches:\n",
    "    print(match)"
   ]
  },
  {
   "cell_type": "code",
   "execution_count": null,
   "id": "a5214a2d",
   "metadata": {},
   "outputs": [],
   "source": [
    "\n",
    "print('============(example 13)  search for any ending word \\'an\\' of a string  )')\n",
    "\n",
    "pattern = re.compile(r'an$')  # has is not a start of a string, so no match\n",
    "# find that pattern in the text to search\n",
    "matches = pattern.finditer(sentence)\n",
    "\n",
    "for match in matches:\n",
    "    print(match)"
   ]
  },
  {
   "cell_type": "code",
   "execution_count": null,
   "id": "7af95070",
   "metadata": {},
   "outputs": [],
   "source": [
    "\n",
    "\n",
    "print('============(example 14)  search for any ending word \\'end\\' of a string  )')\n",
    "\n",
    "# This is a start word of the string and will give match\n",
    "pattern = re.compile(r'end$')\n",
    "# find that pattern in the text to search\n",
    "matches = pattern.finditer(sentence)\n",
    "\n",
    "for match in matches:\n",
    "    print(match)"
   ]
  },
  {
   "cell_type": "code",
   "execution_count": null,
   "id": "e6483487",
   "metadata": {},
   "outputs": [],
   "source": [
    "\n",
    "print('============(example 15)  search for any digits in such format 123.355.2331 / 123.455.2331 / 321-555-4321 )')\n",
    "#  find any 3 digits then any character '.' then any 3 digits then any character '.' then any 4 digits\n",
    "pattern = re.compile(r'\\d\\d\\d.\\d\\d\\d.\\d\\d\\d\\d')\n",
    "# find that pattern in the text to search\n",
    "matches = pattern.finditer(text_to_search)\n",
    "for match in matches:\n",
    "    print(match)\n"
   ]
  }
 ],
 "metadata": {
  "language_info": {
   "name": "python"
  }
 },
 "nbformat": 4,
 "nbformat_minor": 5
}
