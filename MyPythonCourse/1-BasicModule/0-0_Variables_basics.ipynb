{
 "cells": [
  {
   "cell_type": "markdown",
   "id": "cf4932dc",
   "metadata": {},
   "source": [
    "- To comment single/multiple lines of code use \n",
    "- Variables types and examples\n",
    "- how to name a variable \n",
    "(\n",
    "    -> use CampelCase / \n",
    "    -> use_under_score\n",
    ")"
   ]
  },
  {
   "cell_type": "code",
   "execution_count": null,
   "id": "af34a197",
   "metadata": {},
   "outputs": [],
   "source": [
    "# method 1\n",
    "\n",
    "'''\n",
    "method 2\n",
    "Comments here\n",
    "\n",
    "'''"
   ]
  },
  {
   "cell_type": "code",
   "execution_count": null,
   "id": "1e0d0f2c",
   "metadata": {},
   "outputs": [],
   "source": [
    "print(\"Hello\")"
   ]
  },
  {
   "cell_type": "code",
   "execution_count": null,
   "id": "7fd1f25e",
   "metadata": {},
   "outputs": [],
   "source": [
    "x =5        # This is integer (int variable)\n",
    "print(x)"
   ]
  },
  {
   "cell_type": "code",
   "execution_count": null,
   "id": "93f6a87d",
   "metadata": {},
   "outputs": [],
   "source": [
    "y = -6.3421  # This is float (float variable)\n",
    "print(y)"
   ]
  },
  {
   "cell_type": "code",
   "execution_count": null,
   "id": "05ea172d",
   "metadata": {},
   "outputs": [],
   "source": [
    "i = -5      # This is integer (int variable)\n",
    "print(i)"
   ]
  },
  {
   "cell_type": "code",
   "execution_count": null,
   "id": "fcbe9fa7",
   "metadata": {},
   "outputs": [],
   "source": [
    "string = \"hello\"   # To define a string\n",
    "print(string)"
   ]
  },
  {
   "cell_type": "code",
   "execution_count": 1,
   "id": "1dbd0efb",
   "metadata": {},
   "outputs": [
    {
     "name": "stdout",
     "output_type": "stream",
     "text": [
      "a\n",
      "d\n"
     ]
    }
   ],
   "source": [
    "ch_1 = 'a'     # To define a character\n",
    "print(ch_1)\n",
    "\n",
    "ch_2 = \"d\"     # To define a character\n",
    "print(ch_2)"
   ]
  },
  {
   "cell_type": "code",
   "execution_count": 3,
   "id": "9748b809",
   "metadata": {},
   "outputs": [
    {
     "name": "stdout",
     "output_type": "stream",
     "text": [
      "True\n",
      "False\n"
     ]
    }
   ],
   "source": [
    "value_true = True  # Boolean variable (True)\n",
    "print(value_true)\n",
    "\n",
    "value_false = False  # Boolean variable (False)\n",
    "print(value_false)"
   ]
  }
 ],
 "metadata": {
  "kernelspec": {
   "display_name": "base",
   "language": "python",
   "name": "python3"
  },
  "language_info": {
   "codemirror_mode": {
    "name": "ipython",
    "version": 3
   },
   "file_extension": ".py",
   "mimetype": "text/x-python",
   "name": "python",
   "nbconvert_exporter": "python",
   "pygments_lexer": "ipython3",
   "version": "3.12.7"
  }
 },
 "nbformat": 4,
 "nbformat_minor": 5
}
