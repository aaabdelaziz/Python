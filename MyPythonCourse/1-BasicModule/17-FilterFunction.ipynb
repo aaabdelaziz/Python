{
 "cells": [
  {
   "cell_type": "markdown",
   "id": "e41cfec2",
   "metadata": {},
   "source": [
    "# Python `filter()`\n"
   ]
  },
  {
   "cell_type": "markdown",
   "id": "d289b617",
   "metadata": {},
   "source": [
    "## Basic: Filter even numbers from a list"
   ]
  },
  {
   "cell_type": "code",
   "execution_count": null,
   "id": "5c9ad49b",
   "metadata": {},
   "outputs": [
    {
     "name": "stdout",
     "output_type": "stream",
     "text": [
      "[2, 4, 6]\n"
     ]
    }
   ],
   "source": [
    "\n",
    "numbers = [1, 2, 3, 4, 5, 6]\n",
    "evens = list(filter(lambda x: x % 2 == 0, numbers))\n",
    "print(evens)\n",
    "\n"
   ]
  },
  {
   "cell_type": "markdown",
   "id": "d061ea19",
   "metadata": {},
   "source": [
    "## Basic: Filter words longer than 3 characters"
   ]
  },
  {
   "cell_type": "code",
   "execution_count": 2,
   "id": "264f9b14",
   "metadata": {},
   "outputs": [
    {
     "name": "stdout",
     "output_type": "stream",
     "text": [
      "['bright']\n"
     ]
    }
   ],
   "source": [
    "\n",
    "words = ['the', 'sun', 'is', 'bright']\n",
    "long_words = list(filter(lambda word: len(word) > 3, words))\n",
    "print(long_words)\n"
   ]
  },
  {
   "cell_type": "markdown",
   "id": "cafff47b",
   "metadata": {},
   "source": [
    "## Intermediate: Filter out None values"
   ]
  },
  {
   "cell_type": "code",
   "execution_count": 3,
   "id": "70a30b1b",
   "metadata": {},
   "outputs": [
    {
     "name": "stdout",
     "output_type": "stream",
     "text": [
      "[1, 2, 3]\n"
     ]
    }
   ],
   "source": [
    "\n",
    "values = [1, None, 2, None, 3]\n",
    "non_none = list(filter(None, values))\n",
    "print(non_none)\n"
   ]
  },
  {
   "cell_type": "markdown",
   "id": "ad59b4c8",
   "metadata": {},
   "source": [
    "## Intermediate: Filter vowels from a string"
   ]
  },
  {
   "cell_type": "code",
   "execution_count": 4,
   "id": "61aab039",
   "metadata": {},
   "outputs": [
    {
     "name": "stdout",
     "output_type": "stream",
     "text": [
      "['e', 'o', 'o']\n"
     ]
    }
   ],
   "source": [
    "\n",
    "s = 'Hello World'\n",
    "vowels = 'aeiouAEIOU'\n",
    "result = list(filter(lambda x: x in vowels, s))\n",
    "print(result)\n"
   ]
  },
  {
   "cell_type": "markdown",
   "id": "fa8ec6d6",
   "metadata": {},
   "source": [
    "## Intermediate: Filter using a named function"
   ]
  },
  {
   "cell_type": "code",
   "execution_count": 5,
   "id": "ad180b7d",
   "metadata": {},
   "outputs": [
    {
     "name": "stdout",
     "output_type": "stream",
     "text": [
      "[1, 5]\n"
     ]
    }
   ],
   "source": [
    "\n",
    "def is_positive(num):\n",
    "    return num > 0\n",
    "\n",
    "nums = [-2, 0, 1, 5, -3]\n",
    "positives = list(filter(is_positive, nums))\n",
    "print(positives)\n"
   ]
  },
  {
   "cell_type": "markdown",
   "id": "bd757c98",
   "metadata": {},
   "source": [
    "## Advanced: Filter dictionary by value"
   ]
  },
  {
   "cell_type": "code",
   "execution_count": 6,
   "id": "0af7f922",
   "metadata": {},
   "outputs": [
    {
     "name": "stdout",
     "output_type": "stream",
     "text": [
      "{'b': 15, 'c': 25}\n"
     ]
    }
   ],
   "source": [
    "\n",
    "data = {'a': 5, 'b': 15, 'c': 25}\n",
    "filtered = dict(filter(lambda item: item[1] > 10, data.items()))\n",
    "print(filtered)\n"
   ]
  },
  {
   "cell_type": "markdown",
   "id": "c721684e",
   "metadata": {},
   "source": [
    "## Advanced: Filter objects by attribute"
   ]
  },
  {
   "cell_type": "code",
   "execution_count": 7,
   "id": "0c099c06",
   "metadata": {},
   "outputs": [
    {
     "name": "stdout",
     "output_type": "stream",
     "text": [
      "['Alice', 'Bob']\n"
     ]
    }
   ],
   "source": [
    "\n",
    "class Person:\n",
    "    def __init__(self, name, age):\n",
    "        self.name = name\n",
    "        self.age = age\n",
    "\n",
    "people = [Person('Alice', 30), Person('Bob', 20), Person('Charlie', 17)]\n",
    "adults = list(filter(lambda p: p.age >= 18, people))\n",
    "print([p.name for p in adults])\n"
   ]
  },
  {
   "cell_type": "markdown",
   "id": "ca289698",
   "metadata": {},
   "source": [
    "## Intermediate: Filter based on type"
   ]
  },
  {
   "cell_type": "code",
   "execution_count": 8,
   "id": "e3719922",
   "metadata": {},
   "outputs": [
    {
     "name": "stdout",
     "output_type": "stream",
     "text": [
      "['hello']\n"
     ]
    }
   ],
   "source": [
    "\n",
    "items = [1, 'hello', 2.5, True, None]\n",
    "strings = list(filter(lambda x: isinstance(x, str), items))\n",
    "print(strings)\n"
   ]
  },
  {
   "cell_type": "markdown",
   "id": "3ba0b8e3",
   "metadata": {},
   "source": [
    "## Basic: Filter truthy values"
   ]
  },
  {
   "cell_type": "code",
   "execution_count": 9,
   "id": "93567102",
   "metadata": {},
   "outputs": [
    {
     "name": "stdout",
     "output_type": "stream",
     "text": [
      "['Hello', [1, 2], True]\n"
     ]
    }
   ],
   "source": [
    "\n",
    "items = [0, \"\", \"Hello\", [], [1,2], False, True]\n",
    "truthy = list(filter(None, items))\n",
    "print(truthy)\n"
   ]
  },
  {
   "cell_type": "markdown",
   "id": "1a1c314e",
   "metadata": {},
   "source": [
    "## Intermediate: Filter using list comprehension (comparison)"
   ]
  },
  {
   "cell_type": "code",
   "execution_count": 10,
   "id": "c607573e",
   "metadata": {},
   "outputs": [
    {
     "name": "stdout",
     "output_type": "stream",
     "text": [
      "[20, 25]\n"
     ]
    }
   ],
   "source": [
    "\n",
    "nums = [10, 15, 20, 25]\n",
    "filtered = [x for x in nums if x > 15]\n",
    "print(filtered)\n"
   ]
  },
  {
   "cell_type": "markdown",
   "id": "cc6ae1b1",
   "metadata": {},
   "source": [
    "## Advanced: Filter with multiple conditions"
   ]
  },
  {
   "cell_type": "code",
   "execution_count": 11,
   "id": "b7329974",
   "metadata": {},
   "outputs": [
    {
     "name": "stdout",
     "output_type": "stream",
     "text": [
      "[12, 14, 16, 18]\n"
     ]
    }
   ],
   "source": [
    "\n",
    "nums = list(range(20))\n",
    "filtered = list(filter(lambda x: x % 2 == 0 and x > 10, nums))\n",
    "print(filtered)\n"
   ]
  },
  {
   "cell_type": "markdown",
   "id": "1ac784ce",
   "metadata": {},
   "source": [
    "## Intermediate: Filter lines from file (simulated)"
   ]
  },
  {
   "cell_type": "code",
   "execution_count": 12,
   "id": "c66ca0a6",
   "metadata": {},
   "outputs": [
    {
     "name": "stdout",
     "output_type": "stream",
     "text": [
      "['ERROR Failed']\n"
     ]
    }
   ],
   "source": [
    "\n",
    "lines = [\"INFO Start\", \"ERROR Failed\", \"INFO Done\"]\n",
    "errors = list(filter(lambda x: \"ERROR\" in x, lines))\n",
    "print(errors)\n"
   ]
  },
  {
   "cell_type": "markdown",
   "id": "de36f1ea",
   "metadata": {},
   "source": [
    "## Basic: Remove empty strings"
   ]
  },
  {
   "cell_type": "code",
   "execution_count": 13,
   "id": "0c6a6390",
   "metadata": {},
   "outputs": [
    {
     "name": "stdout",
     "output_type": "stream",
     "text": [
      "['Hello', 'World']\n"
     ]
    }
   ],
   "source": [
    "\n",
    "texts = [\"Hello\", \"\", \"World\", \"\"]\n",
    "non_empty = list(filter(None, texts))\n",
    "print(non_empty)\n"
   ]
  },
  {
   "cell_type": "markdown",
   "id": "2082f7cc",
   "metadata": {},
   "source": [
    "## Advanced: Filter nested data"
   ]
  },
  {
   "cell_type": "code",
   "execution_count": 14,
   "id": "49321408",
   "metadata": {},
   "outputs": [
    {
     "name": "stdout",
     "output_type": "stream",
     "text": [
      "[{'id': 1, 'valid': True}]\n"
     ]
    }
   ],
   "source": [
    "\n",
    "data = [{\"id\": 1, \"valid\": True}, {\"id\": 2, \"valid\": False}]\n",
    "valid_entries = list(filter(lambda x: x[\"valid\"], data))\n",
    "print(valid_entries)\n"
   ]
  },
  {
   "cell_type": "markdown",
   "id": "6e385e75",
   "metadata": {},
   "source": [
    "## Basic: Using filter with set"
   ]
  },
  {
   "cell_type": "code",
   "execution_count": 15,
   "id": "4f83e42f",
   "metadata": {},
   "outputs": [
    {
     "name": "stdout",
     "output_type": "stream",
     "text": [
      "{4, 5}\n"
     ]
    }
   ],
   "source": [
    "\n",
    "s = {1, 2, 3, 4, 5}\n",
    "result = set(filter(lambda x: x > 3, s))\n",
    "print(result)\n"
   ]
  },
  {
   "cell_type": "markdown",
   "id": "bd7c6370",
   "metadata": {},
   "source": [
    "## Intermediate: Chaining filter and map"
   ]
  },
  {
   "cell_type": "code",
   "execution_count": 16,
   "id": "f354cb86",
   "metadata": {},
   "outputs": [
    {
     "name": "stdout",
     "output_type": "stream",
     "text": [
      "[4, 16]\n"
     ]
    }
   ],
   "source": [
    "\n",
    "nums = [1, 2, 3, 4]\n",
    "filtered = list(map(lambda x: x**2, filter(lambda x: x % 2 == 0, nums)))\n",
    "print(filtered)\n"
   ]
  },
  {
   "cell_type": "markdown",
   "id": "1f02250c",
   "metadata": {},
   "source": [
    "## Advanced: Using filter with zip"
   ]
  },
  {
   "cell_type": "code",
   "execution_count": 17,
   "id": "c5448142",
   "metadata": {},
   "outputs": [
    {
     "name": "stdout",
     "output_type": "stream",
     "text": [
      "[('Anna', 90), ('Charlie', 85)]\n"
     ]
    }
   ],
   "source": [
    "\n",
    "names = [\"Anna\", \"Ben\", \"Charlie\"]\n",
    "scores = [90, 40, 85]\n",
    "passed = list(filter(lambda pair: pair[1] >= 50, zip(names, scores)))\n",
    "print(passed)\n"
   ]
  },
  {
   "cell_type": "markdown",
   "id": "219f3a90",
   "metadata": {},
   "source": [
    "## Advanced: Filter duplicated elements (unique only)"
   ]
  },
  {
   "cell_type": "code",
   "execution_count": 18,
   "id": "bd77f7ea",
   "metadata": {},
   "outputs": [
    {
     "name": "stdout",
     "output_type": "stream",
     "text": [
      "[1, 3]\n"
     ]
    }
   ],
   "source": [
    "\n",
    "nums = [1, 2, 2, 3, 4, 4]\n",
    "unique = list(filter(lambda x: nums.count(x) == 1, nums))\n",
    "print(unique)\n"
   ]
  },
  {
   "cell_type": "markdown",
   "id": "fae28b95",
   "metadata": {},
   "source": [
    "## Advanced: Filter regex match"
   ]
  },
  {
   "cell_type": "code",
   "execution_count": 19,
   "id": "8691313a",
   "metadata": {},
   "outputs": [
    {
     "name": "stdout",
     "output_type": "stream",
     "text": [
      "['cherry123']\n"
     ]
    }
   ],
   "source": [
    "\n",
    "import re\n",
    "texts = [\"apple\", \"banana\", \"cherry123\", \"date\"]\n",
    "filtered = list(filter(lambda x: re.search(r'\\d', x), texts))\n",
    "print(filtered)\n"
   ]
  },
  {
   "cell_type": "markdown",
   "id": "b026ff78",
   "metadata": {},
   "source": [
    "## Advanced: Filter pandas DataFrame (if pandas is available)"
   ]
  },
  {
   "cell_type": "code",
   "execution_count": 20,
   "id": "959cba1d",
   "metadata": {},
   "outputs": [
    {
     "name": "stdout",
     "output_type": "stream",
     "text": [
      "    name  age\n",
      "0  Alice   25\n"
     ]
    }
   ],
   "source": [
    "\n",
    "try:\n",
    "    import pandas as pd\n",
    "    df = pd.DataFrame({'name': ['Alice', 'Bob'], 'age': [25, 15]})\n",
    "    adults = df[df['age'] >= 18]\n",
    "    print(adults)\n",
    "except ImportError:\n",
    "    print(\"pandas is not installed\")\n"
   ]
  }
 ],
 "metadata": {
  "kernelspec": {
   "display_name": "base",
   "language": "python",
   "name": "python3"
  },
  "language_info": {
   "codemirror_mode": {
    "name": "ipython",
    "version": 3
   },
   "file_extension": ".py",
   "mimetype": "text/x-python",
   "name": "python",
   "nbconvert_exporter": "python",
   "pygments_lexer": "ipython3",
   "version": "3.12.7"
  }
 },
 "nbformat": 4,
 "nbformat_minor": 5
}
