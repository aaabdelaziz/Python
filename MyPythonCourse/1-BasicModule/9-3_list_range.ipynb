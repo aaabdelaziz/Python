{
 "cells": [
  {
   "cell_type": "code",
   "execution_count": 1,
   "id": "6eab42bf",
   "metadata": {},
   "outputs": [
    {
     "name": "stdout",
     "output_type": "stream",
     "text": [
      "[1, 2, 3, 4]\n"
     ]
    },
    {
     "data": {
      "text/plain": [
       "[-10, -40, -70]"
      ]
     },
     "execution_count": 1,
     "metadata": {},
     "output_type": "execute_result"
    }
   ],
   "source": [
    "numbers = list(range(1, 5))\n",
    "print(numbers)\n",
    "\n",
    "list(range(5, 10))  # [5, 6, 7, 8, 9]\n",
    "\n",
    "list(range(0, 10, 3)) # [0, 3, 6, 9]\n",
    "\n",
    "list(range(-10, -100, -30)) # [-10, -40, -70]\n"
   ]
  }
 ],
 "metadata": {
  "kernelspec": {
   "display_name": "base",
   "language": "python",
   "name": "python3"
  },
  "language_info": {
   "codemirror_mode": {
    "name": "ipython",
    "version": 3
   },
   "file_extension": ".py",
   "mimetype": "text/x-python",
   "name": "python",
   "nbconvert_exporter": "python",
   "pygments_lexer": "ipython3",
   "version": "3.12.7"
  }
 },
 "nbformat": 4,
 "nbformat_minor": 5
}
