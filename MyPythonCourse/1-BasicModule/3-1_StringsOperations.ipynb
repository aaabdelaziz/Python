{
 "cells": [
  {
   "cell_type": "code",
   "execution_count": null,
   "id": "71d1ecaf",
   "metadata": {},
   "outputs": [
    {
     "name": "stdout",
     "output_type": "stream",
     "text": [
      "hello ahmed ali\n",
      "HELLO AHMED ALI\n",
      "True\n",
      "False\n"
     ]
    }
   ],
   "source": [
    "# convert characters to lower  charaacters\n",
    "phrase = \"Hello Ahmed AlI\"\n",
    "print(phrase.lower())\n"
   ]
  },
  {
   "cell_type": "code",
   "execution_count": null,
   "id": "5fefedc8",
   "metadata": {},
   "outputs": [],
   "source": [
    "\n",
    "# convert characters to upper case  charaacters\n",
    "print(phrase.upper())\n"
   ]
  },
  {
   "cell_type": "code",
   "execution_count": null,
   "id": "5359eaa1",
   "metadata": {},
   "outputs": [],
   "source": [
    "\n",
    "# Check characters if they are upper case characters\n",
    "print(phrase.upper().isupper())\n"
   ]
  },
  {
   "cell_type": "code",
   "execution_count": null,
   "id": "28d01a26",
   "metadata": {},
   "outputs": [],
   "source": [
    "\n",
    "# Check characters if they are lower case charaacters\n",
    "print(phrase.upper().islower())\n"
   ]
  },
  {
   "cell_type": "code",
   "execution_count": null,
   "id": "df583c60",
   "metadata": {},
   "outputs": [
    {
     "name": "stdout",
     "output_type": "stream",
     "text": [
      "15\n",
      "********** 1 ****\n",
      "H\n",
      "e\n",
      "l\n",
      "********** 2 ****\n",
      "6\n",
      "0\n",
      "2\n",
      "8\n"
     ]
    }
   ],
   "source": [
    "\n",
    "# Get the len Length of string characters\n",
    "print(len(phrase))\n",
    "print(\"********** 1 ****\")\n",
    "\n",
    "# Get certain character using the index\n",
    "print(phrase[0])  # access the first character\n",
    "print(phrase[1])\n",
    "print(phrase[2])\n",
    "print(\"********** 2 ****\")\n"
   ]
  },
  {
   "cell_type": "code",
   "execution_count": null,
   "id": "4107598e",
   "metadata": {},
   "outputs": [],
   "source": [
    "\n",
    "# Get the index of first character A in the string\n",
    "print(phrase.index('A'))\n",
    "print(phrase.index('H'))\n",
    "print(phrase.index('l'))\n",
    "# get the index for the part med string in the array\n",
    "print(phrase.index('med'))\n",
    "# if u searched index for non existing characters, it will give error\n",
    "# print(phrase.index('z'))"
   ]
  },
  {
   "cell_type": "code",
   "execution_count": 3,
   "id": "5b714328",
   "metadata": {},
   "outputs": [
    {
     "name": "stdout",
     "output_type": "stream",
     "text": [
      "Elephant Academy\n"
     ]
    }
   ],
   "source": [
    "# replace a word in sring with one another string\n",
    "name = \"Giraff Academy\"\n",
    "print(name.replace('Giraff', \"Elephant\"))"
   ]
  }
 ],
 "metadata": {
  "kernelspec": {
   "display_name": "base",
   "language": "python",
   "name": "python3"
  },
  "language_info": {
   "codemirror_mode": {
    "name": "ipython",
    "version": 3
   },
   "file_extension": ".py",
   "mimetype": "text/x-python",
   "name": "python",
   "nbconvert_exporter": "python",
   "pygments_lexer": "ipython3",
   "version": "3.12.7"
  }
 },
 "nbformat": 4,
 "nbformat_minor": 5
}
