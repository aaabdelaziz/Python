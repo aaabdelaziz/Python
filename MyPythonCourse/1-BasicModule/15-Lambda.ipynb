{
 "cells": [
  {
   "cell_type": "markdown",
   "id": "8fc9e77a",
   "metadata": {},
   "source": [
    "# Python Lambda Function"
   ]
  },
  {
   "cell_type": "markdown",
   "id": "d9336048",
   "metadata": {},
   "source": [
    "A lambda function in Python is a small, anonymous function defined using the lambda keyword.\n",
    "It's primarily used for short, throwaway functions that are only needed temporarily—usually as arguments to functions like:\n",
    "map(), filter(), sorted(), etc.\n",
    "\n",
    "🔄 Python vs. C++: Lambda Capture Lists\n",
    "-----------------------------------------\n",
    "\n",
    "In C++, lambda functions can capture variables from surrounding scope using a capture list:\n",
    "\n",
    "```\n",
    "int a = 5;\n",
    "auto f = [a](int x) { return x + a; }; // 'a' is captured by value\n",
    "[a] = capture a by value\n",
    "[&a] = capture a by reference\n",
    "[=] = capture all variables by value\n",
    "[&] = capture all variables by reference\n",
    "```\n",
    "\n",
    "🔵 Does Python Have Capture Lists?\n",
    "----------------------------------\n",
    "\n",
    "No, Python does not have explicit capture lists. Instead, Python closures automatically capture variables by reference:\n",
    "\n",
    "```\n",
    "def outer():\n",
    "    x = 10\n",
    "    return lambda y: x + y  # x is captured from outer scope\n",
    "\n",
    "add_10 = outer()\n",
    "print(add_10(5))  # Output: 15\n",
    "```\n",
    "\n",
    "🧠 Note: If you modify the captured variable in an inner function, you must use the nonlocal keyword.\n",
    "\n",
    "⚠️ Limitations\n",
    "---------------\n",
    "Only one expression, no statements (e.g., no if, for, print() blocks inside)\n",
    "Not ideal for complex logic – use def for clarity and reuse\n",
    "\n",
    "✅ Summary\n",
    "Feature\tPython Lambda\tC++ Lambda\n",
    "Named Functions\tOptional (usually anonymous)\tOptional\n",
    "Capture List\t❌ Not needed (automatic closure)\t✅ Required to access outer vars\n",
    "Syntax\tlambda x: x + 1\t[a](int x) { return x + a; }\n",
    "Use Cases\tShort expressions in functional tools\tCustom, inline functions\n",
    "\n"
   ]
  },
  {
   "cell_type": "markdown",
   "id": "403ad320",
   "metadata": {},
   "source": [
    "### 1. Basic Lambda Function\n",
    "Lambda function to add 10 to a number."
   ]
  },
  {
   "cell_type": "code",
   "execution_count": 29,
   "id": "13ff1c06",
   "metadata": {},
   "outputs": [
    {
     "name": "stdout",
     "output_type": "stream",
     "text": [
      "1. Add 10 to 5: 15\n"
     ]
    }
   ],
   "source": [
    "add_10 = lambda x: x + 10  # Takes x and returns x + 10\n",
    "print(\"1. Add 10 to 5:\", add_10(5))"
   ]
  },
  {
   "cell_type": "markdown",
   "id": "47d9e6c9",
   "metadata": {},
   "source": [
    "### 2. Lambda with Two Arguments\n",
    "A lambda function to multiply two numbers."
   ]
  },
  {
   "cell_type": "code",
   "execution_count": 30,
   "id": "7ec58dce",
   "metadata": {},
   "outputs": [
    {
     "name": "stdout",
     "output_type": "stream",
     "text": [
      "2. Multiply 4 * 3: 12\n"
     ]
    }
   ],
   "source": [
    "multiply = lambda a, b: a * b  # Multiplies a and b\n",
    "print(\"2. Multiply 4 * 3:\", multiply(4, 3))"
   ]
  },
  {
   "cell_type": "markdown",
   "id": "1e457409",
   "metadata": {},
   "source": [
    "### 3. Using Lambda with `map()`\n",
    "Double each number in a list."
   ]
  },
  {
   "cell_type": "code",
   "execution_count": 31,
   "id": "6627b7fa",
   "metadata": {},
   "outputs": [
    {
     "name": "stdout",
     "output_type": "stream",
     "text": [
      "3. Doubled List: [2, 4, 6, 8]\n"
     ]
    }
   ],
   "source": [
    "nums = [1, 2, 3, 4]\n",
    "doubled = list(map(lambda x: x * 2, nums))\n",
    "print(\"3. Doubled List:\", doubled)"
   ]
  },
  {
   "cell_type": "markdown",
   "id": "21ae3ce1",
   "metadata": {},
   "source": [
    "### 4. Using Lambda with `filter()`\n",
    "Filter out only even numbers."
   ]
  },
  {
   "cell_type": "code",
   "execution_count": 32,
   "id": "44d04ab3",
   "metadata": {},
   "outputs": [
    {
     "name": "stdout",
     "output_type": "stream",
     "text": [
      "4. Even Numbers: [2, 4]\n"
     ]
    }
   ],
   "source": [
    "evens = list(filter(lambda x: x % 2 == 0, nums))\n",
    "print(\"4. Even Numbers:\", evens)"
   ]
  },
  {
   "cell_type": "markdown",
   "id": "76e3d8c3",
   "metadata": {},
   "source": [
    "### 5. Using Lambda with `sorted()`\n",
    "Sort a list of tuples by the second element."
   ]
  },
  {
   "cell_type": "code",
   "execution_count": 33,
   "id": "ce39b58d",
   "metadata": {},
   "outputs": [
    {
     "name": "stdout",
     "output_type": "stream",
     "text": [
      "5. Sorted by second element: [(2, 'a'), (1, 'b'), (3, 'c')]\n"
     ]
    }
   ],
   "source": [
    "pairs = [(1, 'b'), (2, 'a'), (3, 'c')]\n",
    "sorted_pairs = sorted(pairs, key=lambda x: x[1])\n",
    "print(\"5. Sorted by second element:\", sorted_pairs)"
   ]
  },
  {
   "cell_type": "markdown",
   "id": "e0ad3432",
   "metadata": {},
   "source": [
    "### 6. Conditional Expression in Lambda\n",
    "Return 'even' or 'odd'."
   ]
  },
  {
   "cell_type": "code",
   "execution_count": 34,
   "id": "411487e8",
   "metadata": {},
   "outputs": [
    {
     "name": "stdout",
     "output_type": "stream",
     "text": [
      "6. Label 4: even\n",
      "Label 5: odd\n"
     ]
    }
   ],
   "source": [
    "label = lambda x: 'even' if x % 2 == 0 else 'odd'\n",
    "print(\"6. Label 4:\", label(4))\n",
    "print(\"Label 5:\", label(5))"
   ]
  },
  {
   "cell_type": "markdown",
   "id": "aabde3e7",
   "metadata": {},
   "source": [
    "### 7. Lambda to Extract Field from Dictionary"
   ]
  },
  {
   "cell_type": "code",
   "execution_count": 35,
   "id": "f2094334",
   "metadata": {},
   "outputs": [
    {
     "name": "stdout",
     "output_type": "stream",
     "text": [
      "7. Extracted Names: ['Alice', 'Bob', 'Charlie']\n"
     ]
    }
   ],
   "source": [
    "people = [{'name': 'Alice'}, {'name': 'Bob'}, {'name': 'Charlie'}]\n",
    "names = list(map(lambda person: person['name'], people))\n",
    "print(\"7. Extracted Names:\", names)"
   ]
  },
  {
   "cell_type": "markdown",
   "id": "4f34d8a7",
   "metadata": {},
   "source": [
    "### 8. Lambda in Custom Function\n",
    "Return a lambda that multiplies by a given number."
   ]
  },
  {
   "cell_type": "code",
   "execution_count": 36,
   "id": "df54523d",
   "metadata": {},
   "outputs": [
    {
     "name": "stdout",
     "output_type": "stream",
     "text": [
      "8. Triple of 5: 15\n"
     ]
    }
   ],
   "source": [
    "def make_multiplier(n):\n",
    "    return lambda x: x * n\n",
    "\n",
    "triple = make_multiplier(3)\n",
    "print(\"8. Triple of 5:\", triple(5))"
   ]
  },
  {
   "cell_type": "markdown",
   "id": "a751feb4",
   "metadata": {},
   "source": [
    "### 9. Using Lambda with `reduce()`\n",
    "Compute the product of a list."
   ]
  },
  {
   "cell_type": "code",
   "execution_count": 37,
   "id": "24677e55",
   "metadata": {},
   "outputs": [
    {
     "name": "stdout",
     "output_type": "stream",
     "text": [
      "9. Product: 24\n"
     ]
    }
   ],
   "source": [
    "from functools import reduce\n",
    "product = reduce(lambda x, y: x * y, [1, 2, 3, 4])\n",
    "print(\"9. Product:\", product)"
   ]
  },
  {
   "cell_type": "markdown",
   "id": "66d7140c",
   "metadata": {},
   "source": [
    "### 10. Lambda to Format Strings\n",
    "Concatenate name and age."
   ]
  },
  {
   "cell_type": "code",
   "execution_count": 38,
   "id": "c399784b",
   "metadata": {},
   "outputs": [
    {
     "name": "stdout",
     "output_type": "stream",
     "text": [
      "10. Formatted String: Liam is 28 years old.\n"
     ]
    }
   ],
   "source": [
    "format_person = lambda name, age: f\"{name} is {age} years old.\"\n",
    "print(\"10. Formatted String:\", format_person(\"Liam\", 28))"
   ]
  },
  {
   "cell_type": "markdown",
   "id": "37a77a43",
   "metadata": {},
   "source": [
    "### 11. Nested Lambda Functions\n",
    "Double and then square."
   ]
  },
  {
   "cell_type": "code",
   "execution_count": 39,
   "id": "ecc5f4d0",
   "metadata": {},
   "outputs": [
    {
     "name": "stdout",
     "output_type": "stream",
     "text": [
      "11. Double then square of 3: 36\n"
     ]
    }
   ],
   "source": [
    "double_then_square = lambda x: (lambda y: y ** 2)(x * 2)\n",
    "print(\"11. Double then square of 3:\", double_then_square(3))"
   ]
  },
  {
   "cell_type": "markdown",
   "id": "f6bca030",
   "metadata": {},
   "source": [
    "### 12. Lambda for Sorting Case-Insensitive"
   ]
  },
  {
   "cell_type": "code",
   "execution_count": 40,
   "id": "c277e2b7",
   "metadata": {},
   "outputs": [
    {
     "name": "stdout",
     "output_type": "stream",
     "text": [
      "12. Case-insensitive sort: ['Apple', 'banana', 'cherry']\n"
     ]
    }
   ],
   "source": [
    "words = ['banana', 'Apple', 'cherry']\n",
    "sorted_words = sorted(words, key=lambda x: x.lower())\n",
    "print(\"12. Case-insensitive sort:\", sorted_words)"
   ]
  },
  {
   "cell_type": "markdown",
   "id": "271c7926",
   "metadata": {},
   "source": [
    "### 13. Lambda to Access Nested Data"
   ]
  },
  {
   "cell_type": "code",
   "execution_count": 41,
   "id": "6fad26d3",
   "metadata": {},
   "outputs": [
    {
     "name": "stdout",
     "output_type": "stream",
     "text": [
      "13. Average Scores: [77.5, 85.0]\n"
     ]
    }
   ],
   "source": [
    "students = [{\"name\": \"John\", \"scores\": [70, 85]}, {\"name\": \"Jane\", \"scores\": [80, 90]}]\n",
    "averages = list(map(lambda s: sum(s['scores'])/len(s['scores']), students))\n",
    "print(\"13. Average Scores:\", averages)"
   ]
  },
  {
   "cell_type": "markdown",
   "id": "4927c4eb",
   "metadata": {},
   "source": [
    "### 14. Lambda as a Dictionary Value (for operations)"
   ]
  },
  {
   "cell_type": "code",
   "execution_count": null,
   "id": "174d7363",
   "metadata": {},
   "outputs": [
    {
     "name": "stdout",
     "output_type": "stream",
     "text": [
      "14. Add 10 + 5: 15\n",
      "Subtract 10 - 3: 7\n"
     ]
    }
   ],
   "source": [
    "operations = {\n",
    "    'add': lambda x, y: x + y,\n",
    "    'sub': lambda x, y: x - y\n",
    "}\n",
    "print(\"14. Add 10 + 5:\", operations['add'](10, 5))\n",
    "print(\"Subtract 10 - 3:\", operations['sub'](10, 3))"
   ]
  }
 ],
 "metadata": {
  "kernelspec": {
   "display_name": "Python 3",
   "language": "python",
   "name": "python3"
  },
  "language_info": {
   "codemirror_mode": {
    "name": "ipython",
    "version": 3
   },
   "file_extension": ".py",
   "mimetype": "text/x-python",
   "name": "python",
   "nbconvert_exporter": "python",
   "pygments_lexer": "ipython3",
   "version": "3.12.0"
  }
 },
 "nbformat": 4,
 "nbformat_minor": 5
}
