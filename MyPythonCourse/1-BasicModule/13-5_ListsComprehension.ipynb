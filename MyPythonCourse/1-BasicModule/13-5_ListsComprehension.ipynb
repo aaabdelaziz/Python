{
 "cells": [
  {
   "cell_type": "markdown",
   "id": "fdc3581c",
   "metadata": {},
   "source": [
    "# ---------------------------------------------\n",
    "# Python List Comprehension Examples\n",
    "# ---------------------------------------------\n"
   ]
  },
  {
   "cell_type": "code",
   "execution_count": 17,
   "id": "13b86b24",
   "metadata": {},
   "outputs": [
    {
     "name": "stdout",
     "output_type": "stream",
     "text": [
      "1. Squares: [0, 1, 4, 9, 16, 25, 36, 49, 64, 81]\n"
     ]
    }
   ],
   "source": [
    "\n",
    "# 1. Basic List Comprehension\n",
    "# Create a list of squares from 0 to 9\n",
    "squares = [x**2 for x in range(10)]\n",
    "print(\"1. Squares:\", squares)\n"
   ]
  },
  {
   "cell_type": "code",
   "execution_count": 18,
   "id": "75aa69a3",
   "metadata": {},
   "outputs": [
    {
     "name": "stdout",
     "output_type": "stream",
     "text": [
      "2. Even numbers: [0, 2, 4, 6, 8]\n"
     ]
    }
   ],
   "source": [
    "\n",
    "# 2. List Comprehension with Condition\n",
    "# Get only even numbers from 0 to 9\n",
    "evens = [x for x in range(10) if x % 2 == 0]\n",
    "print(\"2. Even numbers:\", evens)\n"
   ]
  },
  {
   "cell_type": "code",
   "execution_count": 32,
   "id": "057c8ed4",
   "metadata": {},
   "outputs": [
    {
     "name": "stdout",
     "output_type": "stream",
     "text": [
      "3.1 Uppercase words: ['HELLO', 'WORLD', 'WELCOME', 'TO', 'MY', 'YOUTUBE CHANNEL', '-23.4']\n",
      "3.2 Words lengths:  [5, 5, 7, 2, 2, 15, 5]\n"
     ]
    }
   ],
   "source": [
    "\n",
    "# 3. Applying a Function to Each Element (List comprehension with function call)\n",
    "# Convert list of strings to uppercase\n",
    "words = ['hello', 'world', 'welcome', 'to', 'My', 'Youtube Channel', \"-23.4\"]\n",
    "upper_words = [word.upper() for word in words]\n",
    "print(\"3.1 Uppercase words:\", upper_words)\n",
    "\n",
    "lengths = [len(word) for word in words]\n",
    "print(\"3.2 Words lengths: \",  lengths) "
   ]
  },
  {
   "cell_type": "code",
   "execution_count": null,
   "id": "b7598943",
   "metadata": {},
   "outputs": [
    {
     "name": "stdout",
     "output_type": "stream",
     "text": [
      "4.1 Multiplication table:\n",
      " [1, 2, 3, 2, 4, 6, 3, 6, 9]\n",
      "4.2 Print pairs:\n",
      " [['Ahmed', 47.6], ['Ahmed', 49.3], ['Ahmed', 48], ['Ali', 47.6], ['Ali', 49.3], ['Ali', 48], ['Markus', 47.6], ['Markus', 49.3], ['Markus', 48]]\n"
     ]
    }
   ],
   "source": [
    "\n",
    "# 4. Nested Loops in List Comprehension\n",
    "# Create a multiplication table (1 to 3)\n",
    "table = [i * j for i in range(1, 4) for j in range(1, 4)]\n",
    "print(\"4.1 Multiplication table:\\n\", table)\n",
    "\n",
    "# Create pairs  \n",
    "list1 = ['Ahmed', 'Ali', 'Markus']\n",
    "list2 = [47.6 , 49.3, 48]\n",
    "\n",
    "pairs = [ [i,j] for i in list1 for j in list2]\n",
    "print(\"4.2 Created pairs:\\n\", pairs)"
   ]
  },
  {
   "cell_type": "code",
   "execution_count": 21,
   "id": "082bf3d5",
   "metadata": {},
   "outputs": [
    {
     "name": "stdout",
     "output_type": "stream",
     "text": [
      "5. Flattened matrix: [1, 2, 3, 4, 5, 6]\n"
     ]
    }
   ],
   "source": [
    "\n",
    "# 5. Flatten a 2D List\n",
    "# Flatten a nested list (2D list)\n",
    "matrix = [[1, 2], [3, 4], [5, 6]]\n",
    "flattened = [num for row in matrix for num in row]\n",
    "print(\"5. Flattened matrix:\", flattened)\n"
   ]
  },
  {
   "cell_type": "code",
   "execution_count": 22,
   "id": "31609d9f",
   "metadata": {},
   "outputs": [
    {
     "name": "stdout",
     "output_type": "stream",
     "text": [
      "6. Even or Odd labels: ['even', 'odd', 'even', 'odd', 'even']\n"
     ]
    }
   ],
   "source": [
    "\n",
    "# 6. List Comprehension with if...else\n",
    "# Label numbers as 'even' or 'odd'\n",
    "labels = ['even' if x % 2 == 0 else 'odd' for x in range(5)]\n",
    "print(\"6. Even or Odd labels:\", labels)\n"
   ]
  },
  {
   "cell_type": "code",
   "execution_count": 23,
   "id": "8226aef2",
   "metadata": {},
   "outputs": [
    {
     "name": "stdout",
     "output_type": "stream",
     "text": [
      "7. Squares of odd numbers: [1, 9, 25, 49, 81]\n"
     ]
    }
   ],
   "source": [
    "\n",
    "# 7. Filter and Transform at Once\n",
    "# Square only the odd numbers\n",
    "odd_squares = [x**2 for x in range(10) if x % 2 != 0]\n",
    "print(\"7. Squares of odd numbers:\", odd_squares)\n",
    "\n"
   ]
  },
  {
   "cell_type": "code",
   "execution_count": 24,
   "id": "ad1cf2f2",
   "metadata": {},
   "outputs": [
    {
     "name": "stdout",
     "output_type": "stream",
     "text": [
      "8. Without vowels: Lst Cmprhnsn\n"
     ]
    }
   ],
   "source": [
    "# 8. Remove Vowels from a String\n",
    "# Remove vowels from a string using list comprehension\n",
    "text = \"List Comprehension\"\n",
    "no_vowels = [char for char in text if char.lower() not in 'aeiou']\n",
    "print(\"8. Without vowels:\", ''.join(no_vowels))"
   ]
  }
 ],
 "metadata": {
  "kernelspec": {
   "display_name": "Python 3",
   "language": "python",
   "name": "python3"
  },
  "language_info": {
   "codemirror_mode": {
    "name": "ipython",
    "version": 3
   },
   "file_extension": ".py",
   "mimetype": "text/x-python",
   "name": "python",
   "nbconvert_exporter": "python",
   "pygments_lexer": "ipython3",
   "version": "3.12.0"
  }
 },
 "nbformat": 4,
 "nbformat_minor": 5
}
