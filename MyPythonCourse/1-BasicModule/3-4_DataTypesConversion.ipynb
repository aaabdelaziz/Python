{
 "cells": [
  {
   "cell_type": "code",
   "execution_count": 7,
   "id": "ffe8b1e4",
   "metadata": {},
   "outputs": [
    {
     "name": "stdout",
     "output_type": "stream",
     "text": [
      "336.84000000000003\n"
     ]
    }
   ],
   "source": [
    "# To convert int, float, boolean to string\n",
    "input_float   = 4.52    # float\n",
    "input_int     = 2       # int\n",
    "input_string  = \"Ahmed\" # string\n",
    "input_boolean = True    # boolean \n",
    "\n",
    "# To convert\n",
    "#  \n",
    "# int()\n",
    "# str()\n",
    "# float()\n",
    "# bool()\n",
    "\n",
    "# convert_to_float = float(\"Ahmed\")   # Convert string to float will cause error\n",
    "# print(str(convert_to_float))\n",
    "input_string = \"334.54\"\n",
    "convert_to_float = float(input_string) + 2.3   # Convert string to float\n",
    "print(str(convert_to_float))\n",
    "\n"
   ]
  }
 ],
 "metadata": {
  "kernelspec": {
   "display_name": "base",
   "language": "python",
   "name": "python3"
  },
  "language_info": {
   "codemirror_mode": {
    "name": "ipython",
    "version": 3
   },
   "file_extension": ".py",
   "mimetype": "text/x-python",
   "name": "python",
   "nbconvert_exporter": "python",
   "pygments_lexer": "ipython3",
   "version": "3.12.7"
  }
 },
 "nbformat": 4,
 "nbformat_minor": 5
}
