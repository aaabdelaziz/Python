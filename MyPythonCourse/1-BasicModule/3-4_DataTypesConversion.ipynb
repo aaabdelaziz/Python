{
 "cells": [
  {
   "cell_type": "code",
   "execution_count": null,
   "id": "ffe8b1e4",
   "metadata": {},
   "outputs": [
    {
     "name": "stdout",
     "output_type": "stream",
     "text": [
      "convert string (334.54) + 2.3 to float:  336.84000000000003\n"
     ]
    }
   ],
   "source": [
    "# To convert int, float, boolean to string\n",
    "input_float   = 4.52    # float\n",
    "input_int     = 2       # int\n",
    "input_string  = \"Ahmed\" # string\n",
    "input_boolean = True    # boolean \n",
    "\n",
    "# To convert\n",
    "#  \n",
    "# int()\n",
    "# str()\n",
    "# float()\n",
    "# bool()\n",
    "\n",
    "# convert_to_float = float(\"Ahmed\")   # Convert string to float will cause error\n",
    "input_string = \"334.54\"\n",
    "convert_to_float = float(input_string) + 2.3   # Convert string to float\n",
    "print( \"convert string (\" + input_string + \") + 2.3 to float: \" , (convert_to_float))\n",
    "\n"
   ]
  },
  {
   "cell_type": "code",
   "execution_count": null,
   "id": "c830da44",
   "metadata": {},
   "outputs": [
    {
     "name": "stdout",
     "output_type": "stream",
     "text": [
      "convert string (3344) + 2.3 to float:  3346\n"
     ]
    }
   ],
   "source": [
    "# convert_to_int\n",
    "input_string = \"3344\"\n",
    "convert_to_float = int(input_string) + 2   # Convert string to float\n",
    "print( \"convert string (\" + input_string + \") + 2 to float: \" , (convert_to_float))\n",
    "\n",
    "'''\n",
    "input_string = \"33.4\"\n",
    "convert_to_float = int(input_string) + 2.4  \n",
    "\n",
    "'''"
   ]
  },
  {
   "cell_type": "code",
   "execution_count": 25,
   "id": "4a7168c8",
   "metadata": {},
   "outputs": [
    {
     "name": "stdout",
     "output_type": "stream",
     "text": [
      "True\n",
      "True\n",
      "False\n"
     ]
    }
   ],
   "source": [
    "print(bool(0.00000000000000000000000000000000000000001))\n",
    "print(bool(\"ali\"))\n",
    "print(bool(0.00))"
   ]
  },
  {
   "cell_type": "code",
   "execution_count": null,
   "id": "45185b06",
   "metadata": {},
   "outputs": [],
   "source": []
  }
 ],
 "metadata": {
  "kernelspec": {
   "display_name": "base",
   "language": "python",
   "name": "python3"
  },
  "language_info": {
   "codemirror_mode": {
    "name": "ipython",
    "version": 3
   },
   "file_extension": ".py",
   "mimetype": "text/x-python",
   "name": "python",
   "nbconvert_exporter": "python",
   "pygments_lexer": "ipython3",
   "version": "3.12.7"
  }
 },
 "nbformat": 4,
 "nbformat_minor": 5
}
