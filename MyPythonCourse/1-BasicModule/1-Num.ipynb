{
 "cells": [
  {
   "cell_type": "code",
   "execution_count": 1,
   "id": "0c3e2bab",
   "metadata": {},
   "outputs": [
    {
     "name": "stdout",
     "output_type": "stream",
     "text": [
      "Addition: 8\n",
      "Subtraction: 6\n",
      "Multiplication: 12\n",
      "Division: 5.0\n",
      "Floor Division: 6\n",
      "Modulo (Remainder): 2\n",
      "Exponentiation: 8\n",
      "Square Root: 4.0\n",
      "Absolute Value: 10\n",
      "Round: 3.14\n"
     ]
    }
   ],
   "source": [
    "\n",
    "\n",
    "# Addition\n",
    "addition_result = 5 + 3\n",
    "print(\"Addition:\", addition_result)\n",
    "\n",
    "# Subtraction\n",
    "subtraction_result = 10 - 4\n",
    "print(\"Subtraction:\", subtraction_result)\n",
    "\n",
    "# Multiplication\n",
    "multiplication_result = 6 * 2\n",
    "print(\"Multiplication:\", multiplication_result)\n",
    "\n",
    "# Division\n",
    "division_result = 20 / 4\n",
    "print(\"Division:\", division_result)\n",
    "\n",
    "# Floor Division\n",
    "floor_division_result = 20 // 3\n",
    "print(\"Floor Division:\", floor_division_result)\n",
    "\n",
    "# Modulo (Remainder)\n",
    "modulo_result = 20 % 3\n",
    "print(\"Modulo (Remainder):\", modulo_result)\n",
    "\n",
    "# Exponentiation\n",
    "exponentiation_result = 2 ** 3\n",
    "print(\"Exponentiation:\", exponentiation_result)\n",
    "\n",
    "# Square Root (using exponentiation)\n",
    "square_root_result = 16 ** 0.5\n",
    "print(\"Square Root:\", square_root_result)\n",
    "\n",
    "# Absolute Value\n",
    "absolute_value_result = abs(-10)\n",
    "print(\"Absolute Value:\", absolute_value_result)\n",
    "\n",
    "# Round\n",
    "round_result = round(3.14159, 2)  # Round to 2 decimal places\n",
    "print(\"Round:\", round_result)\n",
    "\n"
   ]
  }
 ],
 "metadata": {
  "kernelspec": {
   "display_name": "base",
   "language": "python",
   "name": "python3"
  },
  "language_info": {
   "codemirror_mode": {
    "name": "ipython",
    "version": 3
   },
   "file_extension": ".py",
   "mimetype": "text/x-python",
   "name": "python",
   "nbconvert_exporter": "python",
   "pygments_lexer": "ipython3",
   "version": "3.12.7"
  }
 },
 "nbformat": 4,
 "nbformat_minor": 5
}
