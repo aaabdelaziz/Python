{
 "cells": [
  {
   "cell_type": "code",
   "execution_count": 11,
   "id": "19508151",
   "metadata": {},
   "outputs": [
    {
     "name": "stdout",
     "output_type": "stream",
     "text": [
      "Hello Mohamed\n"
     ]
    }
   ],
   "source": [
    "#\n",
    "# \n",
    "str_1 = \"Hello\"\n",
    "str_2 = \"Mohamed\"\n",
    " \n",
    "print ( str_1 + \" \" + str_2 )\n"
   ]
  },
  {
   "cell_type": "code",
   "execution_count": null,
   "id": "e3d95529",
   "metadata": {},
   "outputs": [
    {
     "name": "stdout",
     "output_type": "stream",
     "text": [
      "summation.  = 6.52\n",
      "subtraction = 2.5199999999999996\n"
     ]
    }
   ],
   "source": [
    "# Concatenate method 0\n",
    "# Now, if we are going to orint a string with nubmers can we just use the '+' operator?\n",
    "#  Variables basic operations\n",
    "input_1 = 4.52\n",
    "input_2 = 2 \n",
    "\n",
    "summation = input_1 + input_2\n",
    "subtraction = input_1 - input_2\n",
    "\n",
    "print(\"summation.  = \" + str(summation))\n",
    "print(\"subtraction = \" + str(subtraction))\n"
   ]
  },
  {
   "cell_type": "code",
   "execution_count": null,
   "id": "e45879bc",
   "metadata": {},
   "outputs": [
    {
     "name": "stdout",
     "output_type": "stream",
     "text": [
      "subtraction = 2.5199999999999996\n"
     ]
    }
   ],
   "source": [
    "# Concatenate method 1\n",
    "input_1 = 4.52\n",
    "input_2 = 2 \n",
    "\n",
    "subtraction = \"subtraction = \" \n",
    "result_to_string =  str(input_1 - input_2)\n",
    "\n",
    "print(subtraction + result_to_string )       # Note here we used +\n"
   ]
  },
  {
   "cell_type": "code",
   "execution_count": null,
   "id": "c743fbbf",
   "metadata": {},
   "outputs": [
    {
     "name": "stdout",
     "output_type": "stream",
     "text": [
      "summation =  6.52\n"
     ]
    }
   ],
   "source": [
    "# concatenate method 2\n",
    "input_1 = 4.52\n",
    "input_2 = 2 \n",
    "\n",
    "summation = \"summation = \" \n",
    "\n",
    "result_to_string =  str(input_1 + input_2)\n",
    "\n",
    "print(summation , result_to_string )      # Note here we used comma"
   ]
  }
 ],
 "metadata": {
  "kernelspec": {
   "display_name": "base",
   "language": "python",
   "name": "python3"
  },
  "language_info": {
   "codemirror_mode": {
    "name": "ipython",
    "version": 3
   },
   "file_extension": ".py",
   "mimetype": "text/x-python",
   "name": "python",
   "nbconvert_exporter": "python",
   "pygments_lexer": "ipython3",
   "version": "3.12.7"
  }
 },
 "nbformat": 4,
 "nbformat_minor": 5
}
