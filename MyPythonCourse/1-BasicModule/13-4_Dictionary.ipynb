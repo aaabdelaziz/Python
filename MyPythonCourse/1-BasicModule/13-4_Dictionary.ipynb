{
 "cells": [
  {
   "cell_type": "markdown",
   "id": "097efe99",
   "metadata": {},
   "source": [
    "# Python Dictionary Operations – From Basic to Advanced"
   ]
  },
  {
   "cell_type": "markdown",
   "id": "b963260c",
   "metadata": {},
   "source": [
    "### 1. Creating a Dictionary"
   ]
  },
  {
   "cell_type": "code",
   "execution_count": null,
   "id": "9f59c714",
   "metadata": {},
   "outputs": [],
   "source": [
    "person = {\"name\": \"Alice\", \"age\": 30, \"city\": \"Berlin\"}\n",
    "print(\"Dictionary:\", person)"
   ]
  },
  {
   "cell_type": "markdown",
   "id": "c503b5ee",
   "metadata": {},
   "source": [
    "### 2. Accessing Values by Key"
   ]
  },
  {
   "cell_type": "code",
   "execution_count": null,
   "id": "6a10e03e",
   "metadata": {},
   "outputs": [],
   "source": [
    "print(\"Name:\", person[\"name\"])\n",
    "print(\"City:\", person.get(\"city\"))"
   ]
  },
  {
   "cell_type": "markdown",
   "id": "ae4dc045",
   "metadata": {},
   "source": [
    "### 3. Modifying and Adding Items"
   ]
  },
  {
   "cell_type": "code",
   "execution_count": null,
   "id": "fe6b54ad",
   "metadata": {},
   "outputs": [],
   "source": [
    "person[\"age\"] = 31\n",
    "person[\"email\"] = \"alice@example.com\"\n",
    "print(\"Updated Dictionary:\", person)"
   ]
  },
  {
   "cell_type": "markdown",
   "id": "c0dc8d76",
   "metadata": {},
   "source": [
    "### 4. Removing Items"
   ]
  },
  {
   "cell_type": "code",
   "execution_count": null,
   "id": "a4a153b2",
   "metadata": {},
   "outputs": [],
   "source": [
    "person.pop(\"city\")  # Removes key 'city'\n",
    "print(\"After pop:\", person)\n",
    "del person[\"email\"]  # Removes key 'email'\n",
    "print(\"After del:\", person)"
   ]
  },
  {
   "cell_type": "markdown",
   "id": "f6a75d12",
   "metadata": {},
   "source": [
    "### 5. Dictionary Length"
   ]
  },
  {
   "cell_type": "code",
   "execution_count": null,
   "id": "e3aa647c",
   "metadata": {},
   "outputs": [],
   "source": [
    "print(\"Length:\", len(person))"
   ]
  },
  {
   "cell_type": "markdown",
   "id": "5dc42667",
   "metadata": {},
   "source": [
    "### 6. Looping through Dictionary"
   ]
  },
  {
   "cell_type": "code",
   "execution_count": null,
   "id": "e541e140",
   "metadata": {},
   "outputs": [],
   "source": [
    "for key, value in person.items():\n",
    "    print(f\"{key}: {value}\")"
   ]
  },
  {
   "cell_type": "markdown",
   "id": "fdc7749e",
   "metadata": {},
   "source": [
    "### 7. Dictionary Keys, Values, and Items"
   ]
  },
  {
   "cell_type": "code",
   "execution_count": null,
   "id": "9df5cab7",
   "metadata": {},
   "outputs": [],
   "source": [
    "print(\"Keys:\", person.keys())\n",
    "print(\"Values:\", person.values())\n",
    "print(\"Items:\", person.items())"
   ]
  },
  {
   "cell_type": "markdown",
   "id": "72f13d2f",
   "metadata": {},
   "source": [
    "### 8. Using `in` to Check for Keys"
   ]
  },
  {
   "cell_type": "code",
   "execution_count": null,
   "id": "26b10ba2",
   "metadata": {},
   "outputs": [],
   "source": [
    "print(\"name in person:\", \"name\" in person)\n",
    "print(\"city in person:\", \"city\" in person)"
   ]
  },
  {
   "cell_type": "markdown",
   "id": "8ca586e4",
   "metadata": {},
   "source": [
    "### 9. Dictionary Comprehension"
   ]
  },
  {
   "cell_type": "code",
   "execution_count": null,
   "id": "b9a83d0b",
   "metadata": {},
   "outputs": [],
   "source": [
    "squares = {x: x**2 for x in range(1, 6)}\n",
    "print(\"Squares Dictionary:\", squares)"
   ]
  },
  {
   "cell_type": "markdown",
   "id": "c008b052",
   "metadata": {},
   "source": [
    "### 10. Merging Dictionaries"
   ]
  },
  {
   "cell_type": "code",
   "execution_count": null,
   "id": "02e610ad",
   "metadata": {},
   "outputs": [],
   "source": [
    "a = {\"x\": 1, \"y\": 2}\n",
    "b = {\"y\": 3, \"z\": 4}\n",
    "c = {**a, **b}  # Python 3.5+\n",
    "print(\"Merged Dictionary:\", c)"
   ]
  },
  {
   "cell_type": "markdown",
   "id": "5e81f34a",
   "metadata": {},
   "source": [
    "### 11. Nested Dictionary"
   ]
  },
  {
   "cell_type": "code",
   "execution_count": null,
   "id": "6cf953c8",
   "metadata": {},
   "outputs": [],
   "source": [
    "students = {\n",
    "    \"A\": {\"name\": \"John\", \"grade\": 85},\n",
    "    \"B\": {\"name\": \"Jane\", \"grade\": 92}\n",
    "}\n",
    "print(\"Nested Dictionary:\", students)\n",
    "print(\"Student B Name:\", students[\"B\"][\"name\"])"
   ]
  },
  {
   "cell_type": "code",
   "execution_count": null,
   "id": "bfa5db64",
   "metadata": {},
   "outputs": [
    {
     "ename": "TypeError",
     "evalue": "'str' object cannot be interpreted as an integer",
     "output_type": "error",
     "traceback": [
      "\u001b[0;31m---------------------------------------------------------------------------\u001b[0m",
      "\u001b[0;31mTypeError\u001b[0m                                 Traceback (most recent call last)",
      "Cell \u001b[0;32mIn[9], line 4\u001b[0m\n\u001b[1;32m      2\u001b[0m lengths \u001b[38;5;241m=\u001b[39m {}\n\u001b[1;32m      3\u001b[0m count \u001b[38;5;241m=\u001b[39m\u001b[38;5;241m0\u001b[39m\n\u001b[0;32m----> 4\u001b[0m \u001b[38;5;28;01mfor\u001b[39;00m i \u001b[38;5;129;01min\u001b[39;00m \u001b[38;5;28mrange\u001b[39m(s):\n\u001b[1;32m      5\u001b[0m     \u001b[38;5;28mprint\u001b[39m (i)\n\u001b[1;32m      6\u001b[0m     count\u001b[38;5;241m+\u001b[39m\u001b[38;5;241m=\u001b[39m\u001b[38;5;241m1\u001b[39m\n",
      "\u001b[0;31mTypeError\u001b[0m: 'str' object cannot be interpreted as an integer"
     ]
    }
   ],
   "source": [
    "s = \"abcabcd\"\n",
    "lengths = {}\n",
    "count =0\n",
    "for i in range(s):\n",
    "    print (i)\n",
    "    count+=1\n",
    "   "
   ]
  },
  {
   "cell_type": "markdown",
   "id": "827c6196",
   "metadata": {},
   "source": [
    "### 12. Clearing a Dictionary"
   ]
  },
  {
   "cell_type": "code",
   "execution_count": null,
   "id": "76de1d37",
   "metadata": {},
   "outputs": [],
   "source": [
    "temp = {\"a\": 1, \"b\": 2}\n",
    "temp.clear()\n",
    "print(\"Cleared Dictionary:\", temp)"
   ]
  }
 ],
 "metadata": {
  "kernelspec": {
   "display_name": "base",
   "language": "python",
   "name": "python3"
  },
  "language_info": {
   "codemirror_mode": {
    "name": "ipython",
    "version": 3
   },
   "file_extension": ".py",
   "mimetype": "text/x-python",
   "name": "python",
   "nbconvert_exporter": "python",
   "pygments_lexer": "ipython3",
   "version": "3.12.7"
  }
 },
 "nbformat": 4,
 "nbformat_minor": 5
}
