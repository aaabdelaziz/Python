{
 "cells": [
  {
   "cell_type": "code",
   "execution_count": 1,
   "id": "30404149",
   "metadata": {},
   "outputs": [
    {
     "name": "stdout",
     "output_type": "stream",
     "text": [
      "range(1, 10)\n",
      "------------------\n",
      "------------------\n",
      "0\n",
      "1\n",
      "2\n",
      "3\n",
      "4\n",
      "------------------\n",
      "0 Mary\n",
      "1 had\n",
      "2 a\n",
      "3 little\n",
      "4 lamb\n",
      "------------------\n"
     ]
    }
   ],
   "source": [
    "# range() function is used to generate a sequence of numbers.\n",
    "# It's commonly used in loops to iterate over a certain range of values. \n",
    "\n",
    "# The general syntax of the range(start, stop[, step])\n",
    "# start: The starting value of the sequence (inclusive). If not specified, it defaults to 0.\n",
    "# stop: The end value of the sequence (exclusive).\n",
    "# step: The increment between each number in the sequence. If not specified, it defaults to 1.\n",
    "\n",
    "print(range(1,10))  # This is wrong\n",
    "print('------------------')\n",
    "\n",
    "sum(range(4))  # 0 + 1 + 2 + 3\n",
    "print('------------------')\n",
    "\n",
    "for i in range(5):\n",
    "    print(i)\n",
    "print('------------------')\n",
    "\n",
    "a = ['Mary', 'had', 'a', 'little', 'lamb']\n",
    "for i in range(len(a)):\n",
    "    print(i, a[i])\n",
    "print('------------------')\n"
   ]
  }
 ],
 "metadata": {
  "kernelspec": {
   "display_name": "base",
   "language": "python",
   "name": "python3"
  },
  "language_info": {
   "codemirror_mode": {
    "name": "ipython",
    "version": 3
   },
   "file_extension": ".py",
   "mimetype": "text/x-python",
   "name": "python",
   "nbconvert_exporter": "python",
   "pygments_lexer": "ipython3",
   "version": "3.12.7"
  }
 },
 "nbformat": 4,
 "nbformat_minor": 5
}
