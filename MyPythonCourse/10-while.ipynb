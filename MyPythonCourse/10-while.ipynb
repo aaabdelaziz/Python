{
 "cells": [
  {
   "cell_type": "code",
   "execution_count": null,
   "id": "7eea9374",
   "metadata": {},
   "outputs": [],
   "source": [
    "while True:\n",
    "    pass  "
   ]
  }
 ],
 "metadata": {
  "language_info": {
   "name": "python"
  }
 },
 "nbformat": 4,
 "nbformat_minor": 5
}
