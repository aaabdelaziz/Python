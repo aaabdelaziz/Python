{
 "cells": [
  {
   "cell_type": "code",
   "execution_count": null,
   "id": "8a781e70",
   "metadata": {},
   "outputs": [],
   "source": [
    "# to convert string to json or json string\n",
    "# convert array list to json []\n",
    "# convert dictionray object to json {}"
   ]
  }
 ],
 "metadata": {
  "language_info": {
   "name": "python"
  }
 },
 "nbformat": 4,
 "nbformat_minor": 5
}
