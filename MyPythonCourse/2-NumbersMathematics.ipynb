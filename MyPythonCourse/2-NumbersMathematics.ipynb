{
 "cells": [
  {
   "cell_type": "code",
   "execution_count": 4,
   "id": "2df48c8e",
   "metadata": {},
   "outputs": [
    {
     "name": "stdout",
     "output_type": "stream",
     "text": [
      "4.043534343243234\n",
      "13.5\n",
      "-13.5\n",
      "-1.5\n",
      "23\n",
      "1\n"
     ]
    }
   ],
   "source": [
    "from math import *\n",
    "import math\n",
    "\n",
    "print(4.0435343432432343430011)\n",
    "print(3 * 4.5)\n",
    "print(3 * -4.5)\n",
    "print(3 + -4.5)\n",
    "print(3 + 4 * 5)  # this is equal to percedence of the  ( 3 + (4 * 5) )\n",
    "print(10 % 3)   # the remainder of the division"
   ]
  },
  {
   "cell_type": "code",
   "execution_count": 5,
   "id": "c2f7fd4d",
   "metadata": {},
   "outputs": [
    {
     "name": "stdout",
     "output_type": "stream",
     "text": [
      " number is  43\n"
     ]
    }
   ],
   "source": [
    "# convert the number to string\n",
    "my_number = 43\n",
    "print(\" number is  \" + str(my_number))\n"
   ]
  },
  {
   "cell_type": "code",
   "execution_count": 6,
   "id": "a4e625f7",
   "metadata": {},
   "outputs": [
    {
     "name": "stdout",
     "output_type": "stream",
     "text": [
      "2\n",
      "-8.0\n",
      "power value is 9\n"
     ]
    }
   ],
   "source": [
    "\n",
    "# Get the absolute value of a number\n",
    "num = -2\n",
    "print(abs(num))\n",
    "# Get the power of value\n",
    "print(pow(num, 3))\n",
    "# The Python ** operator is used for calculating the power of a number. In\n",
    "x = 3 ** 2  # equivalent to 3^2\n",
    "print(\"power value is \" + str(x))"
   ]
  },
  {
   "cell_type": "code",
   "execution_count": 7,
   "id": "45d03a9a",
   "metadata": {},
   "outputs": [
    {
     "name": "stdout",
     "output_type": "stream",
     "text": [
      "minimum value:-2\n",
      "maximum value:3\n",
      "-1\n",
      "4\n"
     ]
    }
   ],
   "source": [
    "# Get the minimum number of two numbers\n",
    "print(\"minimum value:\" + str(min(num, 3)))\n",
    "# Get the bigger number of two numbers\n",
    "print(\"maximum value:\" + str(max(num, 3)))\n",
    "# Get the minimum number of two numbers\n",
    "print(max(num, -1))\n",
    "# To round or approximate a number\n",
    "print(round(3.5))"
   ]
  },
  {
   "cell_type": "code",
   "execution_count": 8,
   "id": "3601704f",
   "metadata": {},
   "outputs": [
    {
     "name": "stdout",
     "output_type": "stream",
     "text": [
      "4\n",
      "1.4142135623730951\n",
      "2.0\n"
     ]
    }
   ],
   "source": [
    "\n",
    "# To round to higher number\n",
    "print(ceil(3.5))\n",
    "# To round to lower near number\n",
    "# print(\"math.sqrt(100) : \", sqrt(100))\n",
    "# print(\"math.sqrt(7) : \", sqrt(7))\n",
    "\n",
    "# Get the square root for +ve numbers\n",
    "print(sqrt(-1*num))\n",
    "\n",
    "num=4\n",
    "print(math.sqrt(num))\n"
   ]
  }
 ],
 "metadata": {
  "kernelspec": {
   "display_name": "base",
   "language": "python",
   "name": "python3"
  },
  "language_info": {
   "codemirror_mode": {
    "name": "ipython",
    "version": 3
   },
   "file_extension": ".py",
   "mimetype": "text/x-python",
   "name": "python",
   "nbconvert_exporter": "python",
   "pygments_lexer": "ipython3",
   "version": "3.12.7"
  }
 },
 "nbformat": 4,
 "nbformat_minor": 5
}
